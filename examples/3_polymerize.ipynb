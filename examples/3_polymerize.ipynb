{
 "cells": [
  {
   "cell_type": "code",
   "execution_count": null,
   "id": "75a5b8fd",
   "metadata": {},
   "outputs": [],
   "source": [
    "%load_ext autoreload\n",
    "%autoreload 2\n",
    "\n",
    "import numpy as np\n",
    "import molpy as mp\n",
    "from pathlib import Path\n",
    "\n",
    "data_path = Path(\"data/case1\")"
   ]
  },
  {
   "cell_type": "code",
   "execution_count": null,
   "id": "e5b5244f",
   "metadata": {},
   "outputs": [],
   "source": [
    "struct_h = mp.Struct.from_frame(mp.io.read_pdb(data_path / \"H.pdb\"), \"H\")\n",
    "struct_n = mp.Struct.from_frame(mp.io.read_pdb(data_path / \"N.pdb\"), \"N\")\n",
    "struct_m = mp.Struct.from_frame(mp.io.read_pdb(data_path / \"M.pdb\"), \"M\")\n",
    "struct_p = mp.Struct.from_frame(mp.io.read_pdb(data_path / \"P.pdb\"), \"P\")\n",
    "struct_t = mp.Struct.from_frame(mp.io.read_pdb(data_path / \"T.pdb\"), \"T\")\n",
    "\n",
    "typifier = mp.typifier.AmberToolsTypifier(\"gaff\", \"bcc\")\n",
    "typifier.typify(struct_h, workdir=data_path)\n",
    "typifier.typify(struct_n, net_charge=-1, workdir=data_path)\n",
    "typifier.typify(struct_m, net_charge=1, workdir=data_path)\n",
    "typifier.typify(struct_p, workdir=data_path)\n",
    "typifier.typify(struct_t, workdir=data_path)\n"
   ]
  },
  {
   "cell_type": "code",
   "execution_count": null,
   "id": "0997d487",
   "metadata": {},
   "outputs": [],
   "source": [
    "reacter = mp.reacter.AmberToolsReacter()\n",
    "reacter.react(\n",
    "    data_path,\n",
    "    struct_h,\n",
    "    init=struct_h.atoms[0],\n",
    "    deletes=[struct_h.atoms[1], ]\n",
    ")\n",
    "reacter.react(struct_t, data_path)"
   ]
  },
  {
   "cell_type": "code",
   "execution_count": null,
   "id": "5fcfc34b",
   "metadata": {},
   "outputs": [],
   "source": [
    "polymerizer = mp.polymerizer.AmberToolsPolymerizer()\n",
    "bMIL3PEGM3 = polymerizer.linear(\n",
    "    \"bMIL3PEGM3\",\n",
    "    \"HNMNMNMPPPT\",\n",
    "    {\"H\": struct_h, \"N\": struct_n, \"M\": struct_m, \"P\": struct_p, \"T\": struct_t},\n",
    "    data_path,\n",
    "    \"HT\",\n",
    ")"
   ]
  },
  {
   "cell_type": "code",
   "execution_count": null,
   "id": "68031481",
   "metadata": {},
   "outputs": [],
   "source": [
    "litfsi = mp.io.read_pdb(data_path / \"litfsi.pdb\")\n",
    "litfsi = typifier.typify(litfsi, workdir=data_path)\n",
    "litfsi_ff = typifier.parameterize(litfsi, workdir=data_path)"
   ]
  },
  {
   "cell_type": "code",
   "execution_count": null,
   "id": "418e0c06",
   "metadata": {},
   "outputs": [],
   "source": [
    "packer = mp.packer.PackmolPacker(data_path/\"bMIL3PEGM3_n20_litfsi_n108\")\n",
    "box = mp.CubeRegion(\n",
    "    length=(n_atoms/density) ** (1/3),\n",
    ")\n",
    "packer.add_target(\n",
    "    bMIL3PEGM3, num=20, region=box,\n",
    ")\n",
    "packer.add_target(\n",
    "    litfsi, num=108, region=box,\n",
    ")\n",
    "frame = packer.optimize()\n",
    "frame.forcefield = mp.forcefield.merge(\n",
    "    bMIL3PEGM3.forcefield, litfsi_ff.forcefield\n",
    ")\n",
    "\n",
    "mp.io.write_lammps(\n",
    "    data_path / \"bMIL3PEGM3_n20_litfsi_n108\"),\n",
    "    frame\n",
    ")  # data file and forcefield"
   ]
  }
 ],
 "metadata": {
  "kernelspec": {
   "display_name": "base",
   "language": "python",
   "name": "python3"
  },
  "language_info": {
   "codemirror_mode": {
    "name": "ipython",
    "version": 3
   },
   "file_extension": ".py",
   "mimetype": "text/x-python",
   "name": "python",
   "nbconvert_exporter": "python",
   "pygments_lexer": "ipython3",
   "version": "3.12.8"
  }
 },
 "nbformat": 4,
 "nbformat_minor": 5
}
