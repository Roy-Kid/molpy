{
 "cells": [
  {
   "cell_type": "code",
   "execution_count": 1,
   "id": "75a5b8fd",
   "metadata": {},
   "outputs": [],
   "source": [
    "%load_ext autoreload\n",
    "%autoreload 2\n",
    "\n",
    "import numpy as np\n",
    "import molpy as mp\n",
    "from pathlib import Path\n",
    "\n",
    "data_path = Path(\"data/case1\")"
   ]
  },
  {
   "cell_type": "code",
   "execution_count": 2,
   "id": "e5b5244f",
   "metadata": {},
   "outputs": [
    {
     "data": {
      "text/plain": [
       "<Monomer: 22 atoms>"
      ]
     },
     "execution_count": 2,
     "metadata": {},
     "output_type": "execute_result"
    }
   ],
   "source": [
    "struct_h = mp.Monomer.from_frame(mp.io.read_pdb(data_path / \"H.pdb\"), \"H\")\n",
    "struct_n = mp.Monomer.from_frame(mp.io.read_pdb(data_path / \"N.pdb\"), \"N\")\n",
    "struct_m = mp.Monomer.from_frame(mp.io.read_pdb(data_path / \"M.pdb\"), \"M\")\n",
    "struct_p = mp.Monomer.from_frame(mp.io.read_pdb(data_path / \"P.pdb\"), \"P\")\n",
    "struct_t = mp.Monomer.from_frame(mp.io.read_pdb(data_path / \"T.pdb\"), \"T\")\n",
    "\n",
    "typifier = mp.typifier.AmberToolsTypifier(\"gaff\", \"bcc\")\n",
    "typifier.typify(struct_h, workdir=data_path / \"H\")\n",
    "typifier.typify(struct_n, net_charge=-1, workdir=data_path / \"N\")\n",
    "typifier.typify(struct_m, net_charge=1, workdir=data_path / \"M\")\n",
    "typifier.typify(struct_p, workdir=data_path / \"P\")\n",
    "typifier.typify(struct_t, workdir=data_path / \"T\")\n"
   ]
  },
  {
   "cell_type": "code",
   "execution_count": 3,
   "id": "cf214a66",
   "metadata": {},
   "outputs": [
    {
     "data": {
      "text/plain": [
       "<Monomer: 22 atoms>"
      ]
     },
     "execution_count": 3,
     "metadata": {},
     "output_type": "execute_result"
    }
   ],
   "source": [
    "struct_h.def_link_site(\n",
    "    struct_h[\"atoms\"][11],\n",
    "    None,\n",
    "    [struct_h[\"atoms\"][10], struct_h[\"atoms\"][15], struct_h[\"atoms\"][16]],\n",
    "    \"TAIL\",\n",
    ")\n",
    "\n",
    "# struct_n.def_link_site(\n",
    "#     struct_n[\"atoms\"][5],\n",
    "#     None,\n",
    "#     [struct_n[\"atoms\"][7]],\n",
    "#     \"HEAD\",\n",
    "# )\n",
    "# struct_n.def_link_site(\n",
    "#     struct_n[\"atoms\"][10],\n",
    "#     None,\n",
    "#     [struct_n[\"atoms\"][18]],\n",
    "#     \"TAIL\",\n",
    "# )\n",
    "\n",
    "# struct_m.def_link_site(\n",
    "#     struct_m[\"atoms\"][5],\n",
    "#     None,\n",
    "#     [struct_m[\"atoms\"][0]],\n",
    "#     \"HEAD\",\n",
    "# )\n",
    "# struct_m.def_link_site(\n",
    "#     struct_m[\"atoms\"][1],\n",
    "#     None,\n",
    "#     [struct_m[\"atoms\"][3]],\n",
    "#     \"TAIL\",\n",
    "# )\n",
    "\n",
    "# struct_p.def_link_site(\n",
    "#     struct_p[\"atoms\"][0],\n",
    "#     None,\n",
    "#     [struct_p[\"atoms\"][2], struct_p[\"atoms\"][3], struct_p[\"atoms\"][4]],\n",
    "#     \"HEAD\",\n",
    "# )\n",
    "# struct_p.def_link_site(\n",
    "#     struct_p[\"atoms\"][1],\n",
    "#     None,\n",
    "#     [struct_p[\"atoms\"][6], struct_p[\"atoms\"][7], struct_p[\"atoms\"][8]],\n",
    "#     \"TAIL\",\n",
    "# )\n",
    "\n",
    "struct_t.def_link_site(struct_t[\"atoms\"][1], None, [struct_t[\"atoms\"][4]], \"HEAD\")"
   ]
  },
  {
   "cell_type": "code",
   "execution_count": 4,
   "id": "0997d487",
   "metadata": {},
   "outputs": [
    {
     "name": "stdout",
     "output_type": "stream",
     "text": [
      "\u001b[31mUsage: antechamber -i    \u001b[0m input file name\n",
      "\u001b[31m                   -fi   \u001b[0m input file format\n",
      "\u001b[31m                   -o    \u001b[0m output file name\n",
      "\u001b[31m                   -fo   \u001b[0m output file format\n",
      "\u001b[31m                   -c    \u001b[0m charge method\n",
      "\u001b[31m                   -cf   \u001b[0m charge file name\n",
      "\u001b[31m                   -nc   \u001b[0m net molecular charge (int)\n",
      "\u001b[31m                   -a    \u001b[0m additional file name\n",
      "\u001b[31m                   -fa   \u001b[0m additional file format\n",
      "\u001b[31m                   -ao   \u001b[0m additional file operation\n",
      "\u001b[34m                          crd   \u001b[0m: only read in coordinate\n",
      "\u001b[34m                          crg   \u001b[0m: only read in charge\n",
      "\u001b[34m                          radius\u001b[0m: only read in radius\n",
      "\u001b[34m                          name  \u001b[0m: only read in atom name\n",
      "\u001b[34m                          type  \u001b[0m: only read in atom type\n",
      "\u001b[34m                          bond  \u001b[0m: only read in bond type \n",
      "\u001b[31m                   -m    \u001b[0m multiplicity (2S+1), default is 1\n",
      "\u001b[31m                   -rn   \u001b[0m residue name, overrides input file, default is MOL\n",
      "\u001b[31m                   -rf   \u001b[0m residue toplogy file name in prep input file,\n",
      "                          default is molecule.res\n",
      "\u001b[31m                   -ch   \u001b[0m check file name for gaussian, default is 'molecule'\n",
      "\u001b[31m                   -ek   \u001b[0m mopac or sqm keyword, inside quotes; overwrites previous ones\n",
      "\u001b[31m                   -gk   \u001b[0m gaussian job keyword, inside quotes, is ignored when both -gopt and -gsp are used\n",
      "\u001b[31m                   -gopt \u001b[0m gaussian job keyword for optimization, inside quotes\n",
      "\u001b[31m                   -gsp  \u001b[0m gaussian job keyword for single point calculation, inside quotes\n",
      "\u001b[31m                   -gm   \u001b[0m gaussian memory keyword, inside quotes, such as \"%mem=1000MB\"\n",
      "\u001b[31m                   -gn   \u001b[0m gaussian number of processors keyword, inside quotes, such as \"%nproc=8\"\n",
      "\u001b[31m                   -gdsk \u001b[0m gaussian maximum disk usage keyword, inside quotes, such as \"%maxdisk=50GB\"\n",
      "\u001b[31m                   -gv   \u001b[0m add keyword to generate gesp file (for Gaussian 09 only)\n",
      "\u001b[34m                          1    \u001b[0m: yes\n",
      "\u001b[34m                          0    \u001b[0m: no, the default\n",
      "\u001b[31m                   -ge   \u001b[0m gaussian esp file generated by iop(6/50=1), default is g09.gesp\n",
      "\u001b[31m                   -tor  \u001b[0m torsional angle list, inside a pair of quotes, such as \"1-2-3-4:0,5-6-7-8\"\n",
      "\u001b[34m                         \u001b[0m ':1' or ':0' indicates the torsional angle is frozen or not\n",
      "\u001b[31m                   -df   \u001b[0m am1-bcc precharge flag, 2 - use sqm(default); 0 - use mopac\n",
      "\u001b[31m                   -at   \u001b[0m atom type\n",
      "\u001b[34m                          gaff \u001b[0m: the default\n",
      "\u001b[34m                          gaff2\u001b[0m: for gaff2 (beta-version)\n",
      "\u001b[34m                          amber\u001b[0m: for PARM94/99/99SB\n",
      "\u001b[34m                          bcc  \u001b[0m: bcc \n",
      "\u001b[34m                          abcg2\u001b[0m: abcg2 \n",
      "\u001b[34m                          sybyl\u001b[0m: sybyl \n",
      "\u001b[31m                   -du   \u001b[0m fix duplicate atom names: yes(y)[default] or no(n)\n",
      "\u001b[31m                   -bk   \u001b[0m component/block Id, for ccif\n",
      "\u001b[31m                   -an   \u001b[0m adjust atom names: yes(y) or no(n)\n",
      "                          the default is 'y' for 'mol2' and 'ac' and 'n' for the other formats \n",
      "\u001b[31m                   -j    \u001b[0m atom type and bond type prediction index, default is 4 \n",
      "\u001b[34m                          0    \u001b[0m: no assignment\n",
      "\u001b[34m                          1    \u001b[0m: atom type \n",
      "\u001b[34m                          2    \u001b[0m: full  bond types \n",
      "\u001b[34m                          3    \u001b[0m: part  bond types \n",
      "\u001b[34m                          4    \u001b[0m: atom and full bond type \n",
      "\u001b[34m                          5    \u001b[0m: atom and part bond type \n",
      "\u001b[31m                   -s    \u001b[0m status information: 0(brief), 1(default) or 2(verbose)\n",
      "\u001b[31m                   -eq   \u001b[0m equalizing atomic charge, default is 1 for '-c resp', '-c bcc', '-c abcg2' and 0 for the other charge methods \n",
      "\u001b[34m                          0    \u001b[0m: no use\n",
      "\u001b[34m                          1    \u001b[0m: by atomic paths \n",
      "\u001b[34m                          2    \u001b[0m: by atomic paths and structural information, i.e. E/Z configurations \n",
      "\u001b[31m                   -pf   \u001b[0m remove intermediate files: yes(y) or no(n)[default]\n",
      "\u001b[31m                   -pl   \u001b[0m maximum path length to determin equivalence of atomic charges for resp, bcc and abcg2,\n",
      "\u001b[31m                         \u001b[0m the smaller the value, the faster the algorithm, default is -1 (use full length),\n",
      "\u001b[31m                         \u001b[0m set this parameter to 10 to 30 if your molecule is big (# atoms >= 100)\n",
      "\u001b[31m                   -seq  \u001b[0m atomic sequence order changable: yes(y)[default] or no(n)\n",
      "\u001b[31m                   -dr   \u001b[0m acdoctor mode: yes(y)[default] or no(n)\n",
      "\u001b[31m                   -i -o -fi and -fo must appear; others are optional\u001b[0m\n",
      "\u001b[32m                   Use 'antechamber -L' to list the supported file formats and charge methods\u001b[0m\n",
      "\n",
      "TAIL_ATOM     12   C7\n",
      "MAIN_CHAIN     1   12   C7\n",
      "OMIT_ATOM      1   11   H5\n",
      "OMIT_ATOM      2   16   H6\n",
      "OMIT_ATOM      3   17   H7\n",
      "Number of mainchain atoms (including head and tail atom):     1\n",
      "Number of omited atoms:     3\n",
      "Info: There is a bond linking a non-head and non-tail residue atom (C8) and an omitted atom (H6).\n",
      "      You need to specifically add this bond in LEaP using the command 'bond <atom1> <atom2> [order]'\n",
      "      to link C8 to an atom in another residue (similar to disulfide bonds)!\n",
      "\n",
      "Info: There is a bond linking a non-head and non-tail residue atom (C8) and an omitted atom (H7).\n",
      "      You need to specifically add this bond in LEaP using the command 'bond <atom1> <atom2> [order]'\n",
      "      to link C8 to an atom in another residue (similar to disulfide bonds)!\n",
      "\n",
      "Warning: ATOM C has unfilled valence, assuming the linked atom name (in other residue) is \"M\"\n",
      "         change \"M\" to \"-M\" if ATOM C is linked to the immediate previous residue\n",
      "         change \"M\" to \"+M\" if ATOM C is linked to the immediate after residue\n",
      "HEAD_ATOM      2   C2\n",
      "MAIN_CHAIN     1    2   C2\n",
      "OMIT_ATOM      1    5   H3\n",
      "Number of mainchain atoms (including head and tail atom):     1\n",
      "Number of omited atoms:     1"
     ]
    },
    {
     "data": {
      "text/plain": [
       "<Monomer: 22 atoms>"
      ]
     },
     "execution_count": 4,
     "metadata": {},
     "output_type": "execute_result"
    }
   ],
   "source": [
    "reacter = mp.reacter.AmberToolsReacter()\n",
    "reacter.react(struct_h, data_path)\n",
    "reacter.react(struct_t, data_path)"
   ]
  },
  {
   "cell_type": "code",
   "execution_count": 6,
   "id": "5fcfc34b",
   "metadata": {},
   "outputs": [
    {
     "name": "stdout",
     "output_type": "stream",
     "text": [
      "-I: Adding /opt/conda/envs/AmberTools25/dat/leap/prep to search path.\n",
      "-I: Adding /opt/conda/envs/AmberTools25/dat/leap/lib to search path.\n",
      "-I: Adding /opt/conda/envs/AmberTools25/dat/leap/parm to search path.\n",
      "-I: Adding /opt/conda/envs/AmberTools25/dat/leap/cmd to search path.\n",
      "-f: Source tleap.in.\n",
      "\n",
      "Welcome to LEaP!\n",
      "(no leaprc in search path)\n",
      "Sourcing: ./tleap.in\n",
      "----- Source: /opt/conda/envs/AmberTools25/dat/leap/cmd/leaprc.gaff\n",
      "----- Source of /opt/conda/envs/AmberTools25/dat/leap/cmd/leaprc.gaff done\n",
      "Log file: ./leap.log\n",
      "Loading parameters: /opt/conda/envs/AmberTools25/dat/leap/parm/gaff.dat\n",
      "Reading title:\n",
      "AMBER General Force Field for organic molecules (Version 1.81, May 2017)\n",
      "----- Source: /opt/conda/envs/AmberTools25/dat/leap/cmd/leaprc.water.tip3p\n",
      "----- Source of /opt/conda/envs/AmberTools25/dat/leap/cmd/leaprc.water.tip3p done\n",
      "Loading library: /opt/conda/envs/AmberTools25/dat/leap/lib/atomic_ions.lib\n",
      "Loading library: /opt/conda/envs/AmberTools25/dat/leap/lib/solvents.lib\n",
      "Loading parameters: /opt/conda/envs/AmberTools25/dat/leap/parm/frcmod.tip3p\n",
      "Reading force field modification type file (frcmod)\n",
      "Reading title:\n",
      "This is the additional/replacement parameter set for TIP3P water\n",
      "Loading parameters: /opt/conda/envs/AmberTools25/dat/leap/parm/frcmod.ions1lm_126_tip3p\n",
      "Reading force field modification type file (frcmod)\n",
      "Reading title:\n",
      "Li/Merz ion parameters of monovalent ions for TIP3P water model (12-6 normal usage set)\n",
      "Loading parameters: /opt/conda/envs/AmberTools25/dat/leap/parm/frcmod.ionsjc_tip3p\n",
      "Reading force field modification type file (frcmod)\n",
      "Reading title:\n",
      "Monovalent ion parameters for Ewald and TIP3P water from Joung & Cheatham JPCB (2008)\n",
      "Loading parameters: /opt/conda/envs/AmberTools25/dat/leap/parm/frcmod.ions234lm_126_tip3p\n",
      "Reading force field modification type file (frcmod)\n",
      "Reading title:\n",
      "Li/Merz ion parameters of divalent to tetravalent ions for TIP3P water model (12-6 normal usage set)\n",
      "Loading Prep file: /workspaces/molcrafts/molpy/examples/data/case1/HT/H.prepi\n",
      "Loading parameters: /workspaces/molcrafts/molpy/examples/data/case1/HT/H.frcmod\n",
      "Reading force field modification type file (frcmod)\n",
      "Reading title:\n",
      "Remark line goes here\n",
      "Loading Prep file: /workspaces/molcrafts/molpy/examples/data/case1/HT/T.prepi\n",
      "Loading parameters: /workspaces/molcrafts/molpy/examples/data/case1/HT/T.frcmod\n",
      "Reading force field modification type file (frcmod)\n",
      "Reading title:\n",
      "Remark line goes here\n",
      "Writing pdb file: HT.pdb\n",
      "Checking Unit.\n",
      "\n",
      "/opt/conda/envs/AmberTools25/bin/teLeap: Warning!\n",
      "The unperturbed charge of the unit (-0.370268) is not integral.\n",
      "\n",
      "/opt/conda/envs/AmberTools25/bin/teLeap: Warning!\n",
      "The unperturbed charge of the unit (-0.370268) is not zero.\n",
      "\n",
      "/opt/conda/envs/AmberTools25/bin/teLeap: Note.\n",
      "Ignoring the warnings from Unit Checking.\n",
      "\n",
      "Building topology.\n",
      "Building atom parameters.\n",
      "Building bond parameters.\n",
      "Building angle parameters.\n",
      "Building proper torsion parameters.\n",
      "Building improper torsion parameters.\n",
      "old PREP-specified impropers:\n",
      " <H 1>:  C    C3   C2   H   \n",
      " <H 1>:  C2   C4   C3   H2  \n",
      " <H 1>:  C3   C5   C4   H3  \n",
      " <H 1>:  C6   C4   C5   H4  \n",
      " <H 1>:  C7   C    C6   C5  \n",
      " <H 1>:  C6   S2   C7   S   \n",
      " total 6 improper torsions applied\n",
      " 6 improper torsions in old prep form\n",
      "Building H-Bond parameters.\n",
      "Incorporating Non-Bonded adjustments.\n",
      "Not Marking per-residue atom chain types.\n",
      "Marking per-residue atom chain types.\n",
      " (no restraints)\n"
     ]
    },
    {
     "name": "stderr",
     "output_type": "stream",
     "text": [
      "\n",
      "*** Error: tl_getline(): not interactive, use stdio.\n"
     ]
    },
    {
     "data": {
      "text/plain": [
       "<Struct: 36 atoms>"
      ]
     },
     "execution_count": 6,
     "metadata": {},
     "output_type": "execute_result"
    }
   ],
   "source": [
    "polymerizer = mp.polymerizer.AmberToolsPolymerizer()\n",
    "polymerizer.polymerize([\"H\", \"T\"], {\"H\": struct_h, \"T\": struct_t}, data_path, \"HT\")"
   ]
  },
  {
   "cell_type": "code",
   "execution_count": null,
   "id": "68031481",
   "metadata": {},
   "outputs": [],
   "source": []
  }
 ],
 "metadata": {
  "kernelspec": {
   "display_name": "base",
   "language": "python",
   "name": "python3"
  },
  "language_info": {
   "codemirror_mode": {
    "name": "ipython",
    "version": 3
   },
   "file_extension": ".py",
   "mimetype": "text/x-python",
   "name": "python",
   "nbconvert_exporter": "python",
   "pygments_lexer": "ipython3",
   "version": "3.12.8"
  }
 },
 "nbformat": 4,
 "nbformat_minor": 5
}
