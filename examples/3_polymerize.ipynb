{
 "cells": [
  {
   "cell_type": "code",
   "execution_count": 1,
   "id": "75a5b8fd",
   "metadata": {},
   "outputs": [],
   "source": [
    "%load_ext autoreload\n",
    "%autoreload 2\n",
    "\n",
    "import numpy as np\n",
    "import molpy as mp\n",
    "from pathlib import Path\n",
    "\n",
    "data_path = Path(\"data/case1\")"
   ]
  },
  {
   "cell_type": "code",
   "execution_count": 2,
   "id": "e5b5244f",
   "metadata": {},
   "outputs": [
    {
     "data": {
      "text/plain": [
       "<Monomer: 22 atoms>"
      ]
     },
     "execution_count": 2,
     "metadata": {},
     "output_type": "execute_result"
    }
   ],
   "source": [
    "struct_h = mp.Monomer.from_frame(mp.io.read_pdb(data_path / \"H.pdb\"), \"H\")\n",
    "struct_n = mp.Monomer.from_frame(mp.io.read_pdb(data_path / \"N.pdb\"), \"N\")\n",
    "struct_m = mp.Monomer.from_frame(mp.io.read_pdb(data_path / \"M.pdb\"), \"M\")\n",
    "struct_p = mp.Monomer.from_frame(mp.io.read_pdb(data_path / \"P.pdb\"), \"P\")\n",
    "struct_t = mp.Monomer.from_frame(mp.io.read_pdb(data_path / \"T.pdb\"), \"T\")\n",
    "\n",
    "typifier = mp.typifier.AmberToolsTypifier(\"gaff\", \"bcc\")\n",
    "typifier.typify(struct_h, workdir=data_path / \"H\")\n",
    "typifier.typify(struct_n, net_charge=-1, workdir=data_path / \"N\")\n",
    "typifier.typify(struct_m, net_charge=1, workdir=data_path / \"M\")\n",
    "typifier.typify(struct_p, workdir=data_path / \"P\")\n",
    "typifier.typify(struct_t, workdir=data_path / \"T\")\n"
   ]
  },
  {
   "cell_type": "code",
   "execution_count": null,
   "id": "cf214a66",
   "metadata": {},
   "outputs": [
    {
     "data": {
      "text/plain": [
       "<Monomer: 22 atoms>"
      ]
     },
     "execution_count": 3,
     "metadata": {},
     "output_type": "execute_result"
    }
   ],
   "source": [
    "struct_h.def_link_site(\n",
    "    struct_h[\"atoms\"][11],\n",
    "    None,\n",
    "    [struct_h[\"atoms\"][10], struct_h[\"atoms\"][15], struct_h[\"atoms\"][16]],\n",
    "    \"TAIL\",\n",
    ")\n",
    "\n",
    "struct_n.def_link_site(\n",
    "    struct_n[\"atoms\"][5],\n",
    "    None,\n",
    "    [struct_n[\"atoms\"][7]],\n",
    "    \"HEAD\",\n",
    ")\n",
    "struct_n.def_link_site(\n",
    "    struct_n[\"atoms\"][10],\n",
    "    None,\n",
    "    [struct_n[\"atoms\"][18]],\n",
    "    \"TAIL\",\n",
    ")\n",
    "\n",
    "struct_m.def_link_site(\n",
    "    struct_m[\"atoms\"][5],\n",
    "    None,\n",
    "    [struct_m[\"atoms\"][0]],\n",
    "    \"HEAD\",\n",
    ")\n",
    "struct_m.def_link_site(\n",
    "    struct_m[\"atoms\"][1],\n",
    "    None,\n",
    "    [struct_m[\"atoms\"][3]],\n",
    "    \"TAIL\",\n",
    ")\n",
    "\n",
    "struct_p.def_link_site(\n",
    "    struct_p[\"atoms\"][0],\n",
    "    None,\n",
    "    [struct_p[\"atoms\"][2], struct_p[\"atoms\"][3], struct_p[\"atoms\"][4]],\n",
    "    \"HEAD\",\n",
    ")\n",
    "struct_p.def_link_site(\n",
    "    struct_p[\"atoms\"][1],\n",
    "    None,\n",
    "    [struct_p[\"atoms\"][6], struct_p[\"atoms\"][7], struct_p[\"atoms\"][8]],\n",
    "    \"TAIL\",\n",
    ")\n",
    "\n",
    "struct_t.def_link_site(struct_t[\"atoms\"][1], None, [struct_t[\"atoms\"][4]], \"HEAD\")"
   ]
  },
  {
   "cell_type": "code",
   "execution_count": 4,
   "id": "0997d487",
   "metadata": {},
   "outputs": [
    {
     "name": "stdout",
     "output_type": "stream",
     "text": [
      "\u001b[31mUsage: antechamber -i    \u001b[0m input file name\n",
      "\u001b[31m                   -fi   \u001b[0m input file format\n",
      "\u001b[31m                   -o    \u001b[0m output file name\n",
      "\u001b[31m                   -fo   \u001b[0m output file format\n",
      "\u001b[31m                   -c    \u001b[0m charge method\n",
      "\u001b[31m                   -cf   \u001b[0m charge file name\n",
      "\u001b[31m                   -nc   \u001b[0m net molecular charge (int)\n",
      "\u001b[31m                   -a    \u001b[0m additional file name\n",
      "\u001b[31m                   -fa   \u001b[0m additional file format\n",
      "\u001b[31m                   -ao   \u001b[0m additional file operation\n",
      "\u001b[34m                          crd   \u001b[0m: only read in coordinate\n",
      "\u001b[34m                          crg   \u001b[0m: only read in charge\n",
      "\u001b[34m                          radius\u001b[0m: only read in radius\n",
      "\u001b[34m                          name  \u001b[0m: only read in atom name\n",
      "\u001b[34m                          type  \u001b[0m: only read in atom type\n",
      "\u001b[34m                          bond  \u001b[0m: only read in bond type \n",
      "\u001b[31m                   -m    \u001b[0m multiplicity (2S+1), default is 1\n",
      "\u001b[31m                   -rn   \u001b[0m residue name, overrides input file, default is MOL\n",
      "\u001b[31m                   -rf   \u001b[0m residue toplogy file name in prep input file,\n",
      "                          default is molecule.res\n",
      "\u001b[31m                   -ch   \u001b[0m check file name for gaussian, default is 'molecule'\n",
      "\u001b[31m                   -ek   \u001b[0m mopac or sqm keyword, inside quotes; overwrites previous ones\n",
      "\u001b[31m                   -gk   \u001b[0m gaussian job keyword, inside quotes, is ignored when both -gopt and -gsp are used\n",
      "\u001b[31m                   -gopt \u001b[0m gaussian job keyword for optimization, inside quotes\n",
      "\u001b[31m                   -gsp  \u001b[0m gaussian job keyword for single point calculation, inside quotes\n",
      "\u001b[31m                   -gm   \u001b[0m gaussian memory keyword, inside quotes, such as \"%mem=1000MB\"\n",
      "\u001b[31m                   -gn   \u001b[0m gaussian number of processors keyword, inside quotes, such as \"%nproc=8\"\n",
      "\u001b[31m                   -gdsk \u001b[0m gaussian maximum disk usage keyword, inside quotes, such as \"%maxdisk=50GB\"\n",
      "\u001b[31m                   -gv   \u001b[0m add keyword to generate gesp file (for Gaussian 09 only)\n",
      "\u001b[34m                          1    \u001b[0m: yes\n",
      "\u001b[34m                          0    \u001b[0m: no, the default\n",
      "\u001b[31m                   -ge   \u001b[0m gaussian esp file generated by iop(6/50=1), default is g09.gesp\n",
      "\u001b[31m                   -tor  \u001b[0m torsional angle list, inside a pair of quotes, such as \"1-2-3-4:0,5-6-7-8\"\n",
      "\u001b[34m                         \u001b[0m ':1' or ':0' indicates the torsional angle is frozen or not\n",
      "\u001b[31m                   -df   \u001b[0m am1-bcc precharge flag, 2 - use sqm(default); 0 - use mopac\n",
      "\u001b[31m                   -at   \u001b[0m atom type\n",
      "\u001b[34m                          gaff \u001b[0m: the default\n",
      "\u001b[34m                          gaff2\u001b[0m: for gaff2 (beta-version)\n",
      "\u001b[34m                          amber\u001b[0m: for PARM94/99/99SB\n",
      "\u001b[34m                          bcc  \u001b[0m: bcc \n",
      "\u001b[34m                          abcg2\u001b[0m: abcg2 \n",
      "\u001b[34m                          sybyl\u001b[0m: sybyl \n",
      "\u001b[31m                   -du   \u001b[0m fix duplicate atom names: yes(y)[default] or no(n)\n",
      "\u001b[31m                   -bk   \u001b[0m component/block Id, for ccif\n",
      "\u001b[31m                   -an   \u001b[0m adjust atom names: yes(y) or no(n)\n",
      "                          the default is 'y' for 'mol2' and 'ac' and 'n' for the other formats \n",
      "\u001b[31m                   -j    \u001b[0m atom type and bond type prediction index, default is 4 \n",
      "\u001b[34m                          0    \u001b[0m: no assignment\n",
      "\u001b[34m                          1    \u001b[0m: atom type \n",
      "\u001b[34m                          2    \u001b[0m: full  bond types \n",
      "\u001b[34m                          3    \u001b[0m: part  bond types \n",
      "\u001b[34m                          4    \u001b[0m: atom and full bond type \n",
      "\u001b[34m                          5    \u001b[0m: atom and part bond type \n",
      "\u001b[31m                   -s    \u001b[0m status information: 0(brief), 1(default) or 2(verbose)\n",
      "\u001b[31m                   -eq   \u001b[0m equalizing atomic charge, default is 1 for '-c resp', '-c bcc', '-c abcg2' and 0 for the other charge methods \n",
      "\u001b[34m                          0    \u001b[0m: no use\n",
      "\u001b[34m                          1    \u001b[0m: by atomic paths \n",
      "\u001b[34m                          2    \u001b[0m: by atomic paths and structural information, i.e. E/Z configurations \n",
      "\u001b[31m                   -pf   \u001b[0m remove intermediate files: yes(y) or no(n)[default]\n",
      "\u001b[31m                   -pl   \u001b[0m maximum path length to determin equivalence of atomic charges for resp, bcc and abcg2,\n",
      "\u001b[31m                         \u001b[0m the smaller the value, the faster the algorithm, default is -1 (use full length),\n",
      "\u001b[31m                         \u001b[0m set this parameter to 10 to 30 if your molecule is big (# atoms >= 100)\n",
      "\u001b[31m                   -seq  \u001b[0m atomic sequence order changable: yes(y)[default] or no(n)\n",
      "\u001b[31m                   -dr   \u001b[0m acdoctor mode: yes(y)[default] or no(n)\n",
      "\u001b[31m                   -i -o -fi and -fo must appear; others are optional\u001b[0m\n",
      "\u001b[32m                   Use 'antechamber -L' to list the supported file formats and charge methods\u001b[0m\n",
      "\n",
      "HEAD_ATOM     12   C7\n",
      "MAIN_CHAIN     1   12   C7\n",
      "OMIT_ATOM      1   11   H5\n",
      "OMIT_ATOM      2   16   H6\n",
      "OMIT_ATOM      3   17   H7\n",
      "Number of mainchain atoms (including head and tail atom):     1\n",
      "Number of omited atoms:     3\n",
      "Info: There is a bond linking a non-head and non-tail residue atom (C8) and an omitted atom (H6).\n",
      "      You need to specifically add this bond in LEaP using the command 'bond <atom1> <atom2> [order]'\n",
      "      to link C8 to an atom in another residue (similar to disulfide bonds)!\n",
      "\n",
      "Info: There is a bond linking a non-head and non-tail residue atom (C8) and an omitted atom (H7).\n",
      "      You need to specifically add this bond in LEaP using the command 'bond <atom1> <atom2> [order]'\n",
      "      to link C8 to an atom in another residue (similar to disulfide bonds)!\n",
      "\n",
      "Warning: ATOM C has unfilled valence, assuming the linked atom name (in other residue) is \"M\"\n",
      "         change \"M\" to \"-M\" if ATOM C is linked to the immediate previous residue\n",
      "         change \"M\" to \"+M\" if ATOM C is linked to the immediate after residue\n",
      "TAIL_ATOM      2   C2\n",
      "MAIN_CHAIN     1    2   C2\n",
      "OMIT_ATOM      1    5   H3\n",
      "Number of mainchain atoms (including head and tail atom):     1\n",
      "Number of omited atoms:     1"
     ]
    },
    {
     "data": {
      "text/plain": [
       "<Monomer: 22 atoms>"
      ]
     },
     "execution_count": 4,
     "metadata": {},
     "output_type": "execute_result"
    }
   ],
   "source": [
    "reacter = mp.reacter.AmberToolsReacter()\n",
    "reacter.react(struct_h, data_path)\n",
    "reacter.react(struct_t, data_path)"
   ]
  },
  {
   "cell_type": "code",
   "execution_count": 5,
   "id": "5fcfc34b",
   "metadata": {},
   "outputs": [
    {
     "name": "stdout",
     "output_type": "stream",
     "text": [
      "-I: Adding /opt/conda/envs/AmberTools25/dat/leap/prep to search path.\n",
      "-I: Adding /opt/conda/envs/AmberTools25/dat/leap/lib to search path.\n",
      "-I: Adding /opt/conda/envs/AmberTools25/dat/leap/parm to search path.\n",
      "-I: Adding /opt/conda/envs/AmberTools25/dat/leap/cmd to search path.\n",
      "-f: Source tleap.in.\n",
      "\n",
      "Welcome to LEaP!\n",
      "(no leaprc in search path)\n",
      "Sourcing: ./tleap.in\n",
      "----- Source: /opt/conda/envs/AmberTools25/dat/leap/cmd/leaprc.gaff\n",
      "----- Source of /opt/conda/envs/AmberTools25/dat/leap/cmd/leaprc.gaff done\n",
      "Log file: ./leap.log\n",
      "Loading parameters: /opt/conda/envs/AmberTools25/dat/leap/parm/gaff.dat\n",
      "Reading title:\n",
      "AMBER General Force Field for organic molecules (Version 1.81, May 2017)\n",
      "----- Source: /opt/conda/envs/AmberTools25/dat/leap/cmd/leaprc.water.tip3p\n",
      "----- Source of /opt/conda/envs/AmberTools25/dat/leap/cmd/leaprc.water.tip3p done\n",
      "Loading library: /opt/conda/envs/AmberTools25/dat/leap/lib/atomic_ions.lib\n",
      "Loading library: /opt/conda/envs/AmberTools25/dat/leap/lib/solvents.lib\n",
      "Loading parameters: /opt/conda/envs/AmberTools25/dat/leap/parm/frcmod.tip3p\n",
      "Reading force field modification type file (frcmod)\n",
      "Reading title:\n",
      "This is the additional/replacement parameter set for TIP3P water\n",
      "Loading parameters: /opt/conda/envs/AmberTools25/dat/leap/parm/frcmod.ions1lm_126_tip3p\n",
      "Reading force field modification type file (frcmod)\n",
      "Reading title:\n",
      "Li/Merz ion parameters of monovalent ions for TIP3P water model (12-6 normal usage set)\n",
      "Loading parameters: /opt/conda/envs/AmberTools25/dat/leap/parm/frcmod.ionsjc_tip3p\n",
      "Reading force field modification type file (frcmod)\n",
      "Reading title:\n",
      "Monovalent ion parameters for Ewald and TIP3P water from Joung & Cheatham JPCB (2008)\n",
      "Loading parameters: /opt/conda/envs/AmberTools25/dat/leap/parm/frcmod.ions234lm_126_tip3p\n",
      "Reading force field modification type file (frcmod)\n",
      "Reading title:\n",
      "Li/Merz ion parameters of divalent to tetravalent ions for TIP3P water model (12-6 normal usage set)\n",
      "Loading Prep file: /workspaces/molcrafts/molpy/examples/data/case1/HT/T.prepi\n",
      "Loading parameters: /workspaces/molcrafts/molpy/examples/data/case1/HT/T.frcmod\n",
      "Reading force field modification type file (frcmod)\n",
      "Reading title:\n",
      "Remark line goes here\n",
      "Loading Prep file: /workspaces/molcrafts/molpy/examples/data/case1/HT/H.prepi\n",
      "Loading parameters: /workspaces/molcrafts/molpy/examples/data/case1/HT/H.frcmod\n",
      "Reading force field modification type file (frcmod)\n",
      "Reading title:\n",
      "Remark line goes here\n",
      "\n",
      "/opt/conda/envs/AmberTools25/bin/teLeap: Error!\n",
      "Comparing atoms\n",
      "        .R<T 1>.A<C4 4>, \n",
      "        .R<H 1>.A<C 15>, \n",
      "        .R<T 1>.A<C3 2>, and \n",
      "        .R<T 1>.A<H4 18> \n",
      "       to atoms\n",
      "        .R<T 1>.A<C4 4>, \n",
      "        .R<H 1>.A<C 15>, \n",
      "        .R<T 1>.A<C2 19>, and \n",
      "        .R<T 1>.A<C3 2> \n",
      "       This error may be due to faulty Connection atoms.\n",
      "!FATAL ERROR----------------------------------------\n",
      "!FATAL:    In file [/home/case/miniforge3/conda-bld/ambertools-dac_1745805463107/work/AmberTools/src/leap/src/leap/chirality.c], line 140\n",
      "!FATAL:    Message: Atom named C2 from T did not match !\n",
      "!\n",
      "!ABORTING.\n"
     ]
    },
    {
     "ename": "FileNotFoundError",
     "evalue": "[Errno 2] No such file or directory: 'data/case1/HT/HT.pdb'",
     "output_type": "error",
     "traceback": [
      "\u001b[0;31m---------------------------------------------------------------------------\u001b[0m",
      "\u001b[0;31mFileNotFoundError\u001b[0m                         Traceback (most recent call last)",
      "Cell \u001b[0;32mIn[5], line 2\u001b[0m\n\u001b[1;32m      1\u001b[0m polymerizer \u001b[38;5;241m=\u001b[39m mp\u001b[38;5;241m.\u001b[39mpolymerizer\u001b[38;5;241m.\u001b[39mAmberToolsPolymerizer()\n\u001b[0;32m----> 2\u001b[0m \u001b[43mpolymerizer\u001b[49m\u001b[38;5;241;43m.\u001b[39;49m\u001b[43mpolymerize\u001b[49m\u001b[43m(\u001b[49m\u001b[43m[\u001b[49m\u001b[38;5;124;43m\"\u001b[39;49m\u001b[38;5;124;43mH\u001b[39;49m\u001b[38;5;124;43m\"\u001b[39;49m\u001b[43m,\u001b[49m\u001b[43m \u001b[49m\u001b[38;5;124;43m\"\u001b[39;49m\u001b[38;5;124;43mT\u001b[39;49m\u001b[38;5;124;43m\"\u001b[39;49m\u001b[43m]\u001b[49m\u001b[43m,\u001b[49m\u001b[43m \u001b[49m\u001b[43m{\u001b[49m\u001b[38;5;124;43m\"\u001b[39;49m\u001b[38;5;124;43mH\u001b[39;49m\u001b[38;5;124;43m\"\u001b[39;49m\u001b[43m:\u001b[49m\u001b[43m \u001b[49m\u001b[43mstruct_h\u001b[49m\u001b[43m,\u001b[49m\u001b[43m \u001b[49m\u001b[38;5;124;43m\"\u001b[39;49m\u001b[38;5;124;43mT\u001b[39;49m\u001b[38;5;124;43m\"\u001b[39;49m\u001b[43m:\u001b[49m\u001b[43m \u001b[49m\u001b[43mstruct_t\u001b[49m\u001b[43m}\u001b[49m\u001b[43m,\u001b[49m\u001b[43m \u001b[49m\u001b[43mdata_path\u001b[49m\u001b[43m,\u001b[49m\u001b[43m \u001b[49m\u001b[38;5;124;43m\"\u001b[39;49m\u001b[38;5;124;43mHT\u001b[39;49m\u001b[38;5;124;43m\"\u001b[39;49m\u001b[43m)\u001b[49m\n",
      "File \u001b[0;32m/workspaces/Hamilton-HPC-Orchestra/src/h_submitor/base.py:27\u001b[0m, in \u001b[0;36mYieldDecorator.__call__.<locals>.wrapper\u001b[0;34m(*args, **kwargs)\u001b[0m\n\u001b[1;32m     25\u001b[0m         yield_result \u001b[38;5;241m=\u001b[39m \u001b[38;5;28mself\u001b[39m\u001b[38;5;241m.\u001b[39mvalidate_yield(yield_result)\n\u001b[1;32m     26\u001b[0m         result \u001b[38;5;241m=\u001b[39m \u001b[38;5;28mself\u001b[39m\u001b[38;5;241m.\u001b[39mafter_yield(yield_result)\n\u001b[0;32m---> 27\u001b[0m         yield_result \u001b[38;5;241m=\u001b[39m \u001b[43mgenerator\u001b[49m\u001b[38;5;241;43m.\u001b[39;49m\u001b[43msend\u001b[49m\u001b[43m(\u001b[49m\u001b[43mresult\u001b[49m\u001b[43m)\u001b[49m\n\u001b[1;32m     28\u001b[0m \u001b[38;5;28;01mexcept\u001b[39;00m \u001b[38;5;167;01mStopIteration\u001b[39;00m \u001b[38;5;28;01mas\u001b[39;00m e:\n\u001b[1;32m     29\u001b[0m     result \u001b[38;5;241m=\u001b[39m e\u001b[38;5;241m.\u001b[39mvalue\n",
      "File \u001b[0;32m/workspaces/molcrafts/molpy/src/molpy/polymerizer/base.py:49\u001b[0m, in \u001b[0;36mAmberToolsPolymerizer.polymerize\u001b[0;34m(self, seq, structs, workdir, name)\u001b[0m\n\u001b[1;32m     39\u001b[0m     f\u001b[38;5;241m.\u001b[39mwrite(\u001b[38;5;124mf\u001b[39m\u001b[38;5;124m\"\u001b[39m\u001b[38;5;124msaveamberparm chain \u001b[39m\u001b[38;5;132;01m{\u001b[39;00mname\u001b[38;5;132;01m}\u001b[39;00m\u001b[38;5;124m.prmtop \u001b[39m\u001b[38;5;132;01m{\u001b[39;00mname\u001b[38;5;132;01m}\u001b[39;00m\u001b[38;5;124m.inpcrd\u001b[39m\u001b[38;5;130;01m\\n\u001b[39;00m\u001b[38;5;124m\"\u001b[39m)\n\u001b[1;32m     41\u001b[0m \u001b[38;5;28;01myield\u001b[39;00m {\n\u001b[1;32m     42\u001b[0m     \u001b[38;5;124m\"\u001b[39m\u001b[38;5;124mjob_name\u001b[39m\u001b[38;5;124m\"\u001b[39m: \u001b[38;5;124m\"\u001b[39m\u001b[38;5;124mtleap\u001b[39m\u001b[38;5;124m\"\u001b[39m,\n\u001b[1;32m     43\u001b[0m     \u001b[38;5;124m\"\u001b[39m\u001b[38;5;124mcmd\u001b[39m\u001b[38;5;124m\"\u001b[39m: \u001b[38;5;124mf\u001b[39m\u001b[38;5;124m\"\u001b[39m\u001b[38;5;124mtleap -f tleap.in\u001b[39m\u001b[38;5;124m\"\u001b[39m,\n\u001b[0;32m   (...)\u001b[0m\n\u001b[1;32m     46\u001b[0m     \u001b[38;5;124m\"\u001b[39m\u001b[38;5;124mcwd\u001b[39m\u001b[38;5;124m\"\u001b[39m: workdir,\n\u001b[1;32m     47\u001b[0m }\n\u001b[0;32m---> 49\u001b[0m \u001b[38;5;28;01mreturn\u001b[39;00m mp\u001b[38;5;241m.\u001b[39mPolymer\u001b[38;5;241m.\u001b[39mfrom_frame(\u001b[43mmp\u001b[49m\u001b[38;5;241;43m.\u001b[39;49m\u001b[43mio\u001b[49m\u001b[38;5;241;43m.\u001b[39;49m\u001b[43mread_pdb\u001b[49m\u001b[43m(\u001b[49m\u001b[43mworkdir\u001b[49m\u001b[43m \u001b[49m\u001b[38;5;241;43m/\u001b[39;49m\u001b[43m \u001b[49m\u001b[38;5;124;43mf\u001b[39;49m\u001b[38;5;124;43m\"\u001b[39;49m\u001b[38;5;132;43;01m{\u001b[39;49;00m\u001b[43mname\u001b[49m\u001b[38;5;132;43;01m}\u001b[39;49;00m\u001b[38;5;124;43m.pdb\u001b[39;49m\u001b[38;5;124;43m\"\u001b[39;49m\u001b[43m)\u001b[49m, name\u001b[38;5;241m=\u001b[39mname)\n",
      "File \u001b[0;32m/workspaces/molcrafts/molpy/src/molpy/io/__init__.py:48\u001b[0m, in \u001b[0;36mread_pdb\u001b[0;34m(file, frame)\u001b[0m\n\u001b[1;32m     46\u001b[0m \u001b[38;5;28;01mif\u001b[39;00m frame \u001b[38;5;129;01mis\u001b[39;00m \u001b[38;5;28;01mNone\u001b[39;00m:\n\u001b[1;32m     47\u001b[0m     frame \u001b[38;5;241m=\u001b[39m mp\u001b[38;5;241m.\u001b[39mFrame()\n\u001b[0;32m---> 48\u001b[0m \u001b[38;5;28;01mreturn\u001b[39;00m \u001b[43mreader\u001b[49m\u001b[38;5;241;43m.\u001b[39;49m\u001b[43mread\u001b[49m\u001b[43m(\u001b[49m\u001b[43mframe\u001b[49m\u001b[43m)\u001b[49m\n",
      "File \u001b[0;32m/workspaces/molcrafts/molpy/src/molpy/io/data/pdb.py:22\u001b[0m, in \u001b[0;36mPDBReader.read\u001b[0;34m(self, frame)\u001b[0m\n\u001b[1;32m     20\u001b[0m \u001b[38;5;28;01mdef\u001b[39;00m\u001b[38;5;250m \u001b[39m\u001b[38;5;21mread\u001b[39m(\u001b[38;5;28mself\u001b[39m, frame):\n\u001b[0;32m---> 22\u001b[0m     \u001b[38;5;28;01mwith\u001b[39;00m \u001b[38;5;28;43mopen\u001b[39;49m\u001b[43m(\u001b[49m\u001b[38;5;28;43mself\u001b[39;49m\u001b[38;5;241;43m.\u001b[39;49m\u001b[43m_path\u001b[49m\u001b[43m,\u001b[49m\u001b[43m \u001b[49m\u001b[38;5;124;43m\"\u001b[39;49m\u001b[38;5;124;43mr\u001b[39;49m\u001b[38;5;124;43m\"\u001b[39;49m\u001b[43m)\u001b[49m \u001b[38;5;28;01mas\u001b[39;00m f:\n\u001b[1;32m     24\u001b[0m         lines \u001b[38;5;241m=\u001b[39m \u001b[38;5;28mfilter\u001b[39m(\n\u001b[1;32m     25\u001b[0m             \u001b[38;5;28;01mlambda\u001b[39;00m line: line\u001b[38;5;241m.\u001b[39mstartswith(\u001b[38;5;124m\"\u001b[39m\u001b[38;5;124mATOM\u001b[39m\u001b[38;5;124m\"\u001b[39m)\n\u001b[1;32m     26\u001b[0m             \u001b[38;5;129;01mor\u001b[39;00m line\u001b[38;5;241m.\u001b[39mstartswith(\u001b[38;5;124m\"\u001b[39m\u001b[38;5;124mCONECT\u001b[39m\u001b[38;5;124m\"\u001b[39m)\n\u001b[1;32m     27\u001b[0m             \u001b[38;5;129;01mor\u001b[39;00m line\u001b[38;5;241m.\u001b[39mstartswith(\u001b[38;5;124m\"\u001b[39m\u001b[38;5;124mHETATM\u001b[39m\u001b[38;5;124m\"\u001b[39m),\n\u001b[1;32m     28\u001b[0m             \u001b[38;5;28mmap\u001b[39m(PDBReader\u001b[38;5;241m.\u001b[39msanitizer, f),\n\u001b[1;32m     29\u001b[0m         )\n\u001b[1;32m     31\u001b[0m         atoms \u001b[38;5;241m=\u001b[39m {\n\u001b[1;32m     32\u001b[0m             \u001b[38;5;124m\"\u001b[39m\u001b[38;5;124mid\u001b[39m\u001b[38;5;124m\"\u001b[39m: [],\n\u001b[1;32m     33\u001b[0m             \u001b[38;5;124m\"\u001b[39m\u001b[38;5;124mname\u001b[39m\u001b[38;5;124m\"\u001b[39m: [],\n\u001b[0;32m   (...)\u001b[0m\n\u001b[1;32m     38\u001b[0m             \u001b[38;5;124m\"\u001b[39m\u001b[38;5;124melement\u001b[39m\u001b[38;5;124m\"\u001b[39m: [],\n\u001b[1;32m     39\u001b[0m         }\n",
      "\u001b[0;31mFileNotFoundError\u001b[0m: [Errno 2] No such file or directory: 'data/case1/HT/HT.pdb'"
     ]
    }
   ],
   "source": [
    "polymerizer = mp.polymerizer.AmberToolsPolymerizer()\n",
    "polymerizer.polymerize([\"H\", \"T\"], {\"H\": struct_h, \"T\": struct_t}, data_path, \"HT\")"
   ]
  },
  {
   "cell_type": "code",
   "execution_count": null,
   "id": "68031481",
   "metadata": {},
   "outputs": [],
   "source": []
  }
 ],
 "metadata": {
  "kernelspec": {
   "display_name": "base",
   "language": "python",
   "name": "python3"
  },
  "language_info": {
   "codemirror_mode": {
    "name": "ipython",
    "version": 3
   },
   "file_extension": ".py",
   "mimetype": "text/x-python",
   "name": "python",
   "nbconvert_exporter": "python",
   "pygments_lexer": "ipython3",
   "version": "3.12.8"
  }
 },
 "nbformat": 4,
 "nbformat_minor": 5
}
