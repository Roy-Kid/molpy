{
 "cells": [
  {
   "cell_type": "markdown",
   "id": "69859638",
   "metadata": {},
   "source": [
    "1. moltemplate-style\n",
    "    1. translation, rotation, clone\n",
    "    1. typify bondtype, angletype...\n",
    "    1. \n",
    "\n",
    "2. amber"
   ]
  },
  {
   "cell_type": "code",
   "execution_count": 1,
   "id": "924c3231",
   "metadata": {},
   "outputs": [],
   "source": [
    "%load_ext autoreload\n",
    "%autoreload 2\n",
    "\n",
    "import molpy as mp\n",
    "from pathlib import Path"
   ]
  },
  {
   "cell_type": "code",
   "execution_count": 2,
   "id": "26c7caba",
   "metadata": {},
   "outputs": [],
   "source": [
    "\n",
    "# import molvis as mv\n",
    "\n",
    "class Methane(mp.Struct):\n",
    "\n",
    "    def __init__(self):\n",
    "        super().__init__()\n",
    "        C = self.def_atom(name=\"C\", xyz=(0.1, 0, -0.07))\n",
    "        H1 = self.def_atom(name=\"H1\", xyz=(-0.1, 0, -0.07))\n",
    "        H2 = self.def_atom(name=\"H2\", xyz=(0., 0.1, 0.07))\n",
    "        H3 = self.def_atom(name=\"H3\", xyz=(0., -0.1, 0.07))\n",
    "        self.def_bond(C, H1)\n",
    "        self.def_bond(C, H2)\n",
    "        self.def_bond(C, H3)\n",
    "\n",
    "methane = Methane()\n",
    "# mp.io.write_pdb(\"methane.pdb\", methane)"
   ]
  },
  {
   "cell_type": "code",
   "execution_count": 3,
   "id": "d39ee60b",
   "metadata": {},
   "outputs": [],
   "source": [
    "class Ethane(mp.Struct):\n",
    "    def __init__(self):\n",
    "        super().__init__()\n",
    "        ch3_1 = mp.builder.CH3()\n",
    "        ch3_1.translate(-ch3_1[\"atoms\"][0].xyz)\n",
    "        ch3_2 = mp.builder.CH3()\n",
    "        ch3_2.translate(-ch3_2[\"atoms\"][0].xyz)\n",
    "        ch3_2.rotate(180, axis=(0, 1, 0))\n",
    "        self.add_struct(ch3_1)\n",
    "        self.add_struct(ch3_2)\n",
    "        self.def_bond(ch3_1[\"atoms\"][0], ch3_2[\"atoms\"][0])\n",
    "\n",
    "ethane = Ethane()\n",
    "# Get topology\n",
    "topology = ethane.get_topology()\n",
    "\n",
    "# Calculate angles and dihedrals\n",
    "angles = ethane.calc_angles(topology)\n",
    "dihedrals = ethane.calc_dihedrals(topology)"
   ]
  },
  {
   "cell_type": "code",
   "execution_count": 4,
   "id": "7966a296",
   "metadata": {},
   "outputs": [
    {
     "data": {
      "text/plain": [
       "<DihedralType: HC-C3-C3-C3>"
      ]
     },
     "execution_count": 4,
     "metadata": {},
     "output_type": "execute_result"
    }
   ],
   "source": [
    "ff = mp.ForceField(\"opls\")\n",
    "atomstyle = ff.def_atomstyle(\"full\")\n",
    "\n",
    "# Define atom types\n",
    "C_type = atomstyle.def_type(\"C3\", charge=-0.18, sigma=3.5, epsilon=0.066)\n",
    "H_type = atomstyle.def_type(\"HC\", charge=0.06, sigma=2.5, epsilon=0.03)\n",
    "\n",
    "# Define bond styles\n",
    "bondstyle = ff.def_bondstyle(\"harmonic\")\n",
    "bondstyle.def_type(C_type, C_type, r0=1.54, k=310)\n",
    "bondstyle.def_type(C_type, H_type, r0=1.09, k=340)\n",
    "\n",
    "# Define angle styles\n",
    "anglestyle = ff.def_anglestyle(\"harmonic\")\n",
    "anglestyle.def_type(H_type, C_type, H_type, theta0=109.5, k=33)\n",
    "anglestyle.def_type(H_type, C_type, C_type, theta0=110.0, k=35)\n",
    "anglestyle.def_type(C_type, C_type, C_type, theta0=112.0, k=40)\n",
    "\n",
    "# Define dihedral styles\n",
    "dihedralstyle = ff.def_dihedralstyle(\"opls\")\n",
    "dihedralstyle.def_type(H_type, C_type, C_type, H_type, c0=0.0, c1=1.0, c2=0.0, c3=-0.5)\n",
    "dihedralstyle.def_type(H_type, C_type, C_type, C_type, c0=0.0, c1=0.5, c2=0.0, c3=-0.25)\n"
   ]
  },
  {
   "cell_type": "code",
   "execution_count": 5,
   "id": "6c3d6645",
   "metadata": {},
   "outputs": [
    {
     "data": {
      "text/plain": [
       "1.09"
      ]
     },
     "execution_count": 5,
     "metadata": {},
     "output_type": "execute_result"
    }
   ],
   "source": [
    "typifier = mp.typifier.Typifier(ff)\n",
    "typifier.typify_bonds(ethane)\n",
    "\n",
    "list(ethane.bonds)\n",
    "ethane.bonds[0][\"$type\"][\"r0\"]"
   ]
  },
  {
   "cell_type": "code",
   "execution_count": 6,
   "id": "0557b227",
   "metadata": {},
   "outputs": [],
   "source": [
    "# create ethane mesh\n",
    "offset = 3.5\n",
    "structs = []\n",
    "for i in range(2):\n",
    "    for j in range(2):\n",
    "        for k in range(2):\n",
    "            eth = ethane.copy()\n",
    "            eth.translate((i*offset, j*offset, k*offset))\n",
    "            structs.append(eth)\n",
    "\n",
    "frame = mp.Frame.from_structs(structs)\n",
    "# mp.io.write_pdb(\"ethanes.pdb\", frame)"
   ]
  },
  {
   "cell_type": "code",
   "execution_count": 7,
   "id": "3091f8cf",
   "metadata": {},
   "outputs": [
    {
     "data": {
      "text/plain": [
       "array([1, 1, 1, 1, 1, 1, 2, 1, 1, 1, 1, 1, 1, 2, 1, 1, 1, 1, 1, 1, 2, 1,\n",
       "       1, 1, 1, 1, 1, 2, 1, 1, 1, 1, 1, 1, 2, 1, 1, 1, 1, 1, 1, 2, 1, 1,\n",
       "       1, 1, 1, 1, 2, 1, 1, 1, 1, 1, 1, 2])"
      ]
     },
     "execution_count": 7,
     "metadata": {},
     "output_type": "execute_result"
    }
   ],
   "source": [
    "frame[\"bonds\"][\"type\"]"
   ]
  },
  {
   "cell_type": "code",
   "execution_count": 8,
   "id": "b1db8c42",
   "metadata": {},
   "outputs": [
    {
     "name": "stdout",
     "output_type": "stream",
     "text": [
      "\u001b[31mUsage: antechamber -i    \u001b[0m input file name\n",
      "\u001b[31m                   -fi   \u001b[0m input file format\n",
      "\u001b[31m                   -o    \u001b[0m output file name\n",
      "\u001b[31m                   -fo   \u001b[0m output file format\n",
      "\u001b[31m                   -c    \u001b[0m charge method\n",
      "\u001b[31m                   -cf   \u001b[0m charge file name\n",
      "\u001b[31m                   -nc   \u001b[0m net molecular charge (int)\n",
      "\u001b[31m                   -a    \u001b[0m additional file name\n",
      "\u001b[31m                   -fa   \u001b[0m additional file format\n",
      "\u001b[31m                   -ao   \u001b[0m additional file operation\n",
      "\u001b[34m                          crd   \u001b[0m: only read in coordinate\n",
      "\u001b[34m                          crg   \u001b[0m: only read in charge\n",
      "\u001b[34m                          radius\u001b[0m: only read in radius\n",
      "\u001b[34m                          name  \u001b[0m: only read in atom name\n",
      "\u001b[34m                          type  \u001b[0m: only read in atom type\n",
      "\u001b[34m                          bond  \u001b[0m: only read in bond type \n",
      "\u001b[31m                   -m    \u001b[0m multiplicity (2S+1), default is 1\n",
      "\u001b[31m                   -rn   \u001b[0m residue name, overrides input file, default is MOL\n",
      "\u001b[31m                   -rf   \u001b[0m residue toplogy file name in prep input file,\n",
      "                          default is molecule.res\n",
      "\u001b[31m                   -ch   \u001b[0m check file name for gaussian, default is 'molecule'\n",
      "\u001b[31m                   -ek   \u001b[0m mopac or sqm keyword, inside quotes; overwrites previous ones\n",
      "\u001b[31m                   -gk   \u001b[0m gaussian job keyword, inside quotes, is ignored when both -gopt and -gsp are used\n",
      "\u001b[31m                   -gopt \u001b[0m gaussian job keyword for optimization, inside quotes\n",
      "\u001b[31m                   -gsp  \u001b[0m gaussian job keyword for single point calculation, inside quotes\n",
      "\u001b[31m                   -gm   \u001b[0m gaussian memory keyword, inside quotes, such as \"%mem=1000MB\"\n",
      "\u001b[31m                   -gn   \u001b[0m gaussian number of processors keyword, inside quotes, such as \"%nproc=8\"\n",
      "\u001b[31m                   -gdsk \u001b[0m gaussian maximum disk usage keyword, inside quotes, such as \"%maxdisk=50GB\"\n",
      "\u001b[31m                   -gv   \u001b[0m add keyword to generate gesp file (for Gaussian 09 only)\n",
      "\u001b[34m                          1    \u001b[0m: yes\n",
      "\u001b[34m                          0    \u001b[0m: no, the default\n",
      "\u001b[31m                   -ge   \u001b[0m gaussian esp file generated by iop(6/50=1), default is g09.gesp\n",
      "\u001b[31m                   -tor  \u001b[0m torsional angle list, inside a pair of quotes, such as \"1-2-3-4:0,5-6-7-8\"\n",
      "\u001b[34m                         \u001b[0m ':1' or ':0' indicates the torsional angle is frozen or not\n",
      "\u001b[31m                   -df   \u001b[0m am1-bcc precharge flag, 2 - use sqm(default); 0 - use mopac\n",
      "\u001b[31m                   -at   \u001b[0m atom type\n",
      "\u001b[34m                          gaff \u001b[0m: the default\n",
      "\u001b[34m                          gaff2\u001b[0m: for gaff2 (beta-version)\n",
      "\u001b[34m                          amber\u001b[0m: for PARM94/99/99SB\n",
      "\u001b[34m                          bcc  \u001b[0m: bcc \n",
      "\u001b[34m                          abcg2\u001b[0m: abcg2 \n",
      "\u001b[34m                          sybyl\u001b[0m: sybyl \n",
      "\u001b[31m                   -du   \u001b[0m fix duplicate atom names: yes(y)[default] or no(n)\n",
      "\u001b[31m                   -bk   \u001b[0m component/block Id, for ccif\n",
      "\u001b[31m                   -an   \u001b[0m adjust atom names: yes(y) or no(n)\n",
      "                          the default is 'y' for 'mol2' and 'ac' and 'n' for the other formats \n",
      "\u001b[31m                   -j    \u001b[0m atom type and bond type prediction index, default is 4 \n",
      "\u001b[34m                          0    \u001b[0m: no assignment\n",
      "\u001b[34m                          1    \u001b[0m: atom type \n",
      "\u001b[34m                          2    \u001b[0m: full  bond types \n",
      "\u001b[34m                          3    \u001b[0m: part  bond types \n",
      "\u001b[34m                          4    \u001b[0m: atom and full bond type \n",
      "\u001b[34m                          5    \u001b[0m: atom and part bond type \n",
      "\u001b[31m                   -s    \u001b[0m status information: 0(brief), 1(default) or 2(verbose)\n",
      "\u001b[31m                   -eq   \u001b[0m equalizing atomic charge, default is 1 for '-c resp', '-c bcc', '-c abcg2' and 0 for the other charge methods \n",
      "\u001b[34m                          0    \u001b[0m: no use\n",
      "\u001b[34m                          1    \u001b[0m: by atomic paths \n",
      "\u001b[34m                          2    \u001b[0m: by atomic paths and structural information, i.e. E/Z configurations \n",
      "\u001b[31m                   -pf   \u001b[0m remove intermediate files: yes(y) or no(n)[default]\n",
      "\u001b[31m                   -pl   \u001b[0m maximum path length to determin equivalence of atomic charges for resp, bcc and abcg2,\n",
      "\u001b[31m                         \u001b[0m the smaller the value, the faster the algorithm, default is -1 (use full length),\n",
      "\u001b[31m                         \u001b[0m set this parameter to 10 to 30 if your molecule is big (# atoms >= 100)\n",
      "\u001b[31m                   -seq  \u001b[0m atomic sequence order changable: yes(y)[default] or no(n)\n",
      "\u001b[31m                   -dr   \u001b[0m acdoctor mode: yes(y)[default] or no(n)\n",
      "\u001b[31m                   -i -o -fi and -fo must appear; others are optional\u001b[0m\n",
      "\u001b[32m                   Use 'antechamber -L' to list the supported file formats and charge methods\u001b[0m\n",
      "Info: acdoctor mode is on: check and diagnose problems in the input file.\n",
      "Info: The atom type is set to gaff; the options available to the -at flag are\n",
      "      gaff, gaff2, amber, bcc, abcg2, and sybyl.\n",
      "\n",
      "-- Check Format for pdb File --\n",
      "   Status: pass\n",
      "\n",
      "Running: /opt/conda/envs/AmberTools25/bin/sqm -O -i sqm.in -o sqm.out\n",
      "\n"
     ]
    },
    {
     "data": {
      "text/plain": [
       "<Monomer: 8 atoms>"
      ]
     },
     "execution_count": 8,
     "metadata": {},
     "output_type": "execute_result"
    }
   ],
   "source": [
    "class Ethane(mp.Monomer):\n",
    "    def __init__(self, **props):\n",
    "        super().__init__(**props)\n",
    "        self[\"name\"] = \"ethane\"\n",
    "\n",
    "        # 构造两个 CH3\n",
    "        ch3_1 = mp.builder.CH3()\n",
    "        ch3_1.translate(-ch3_1[\"atoms\"][0].xyz)  # 将碳原子移至原点\n",
    "\n",
    "        ch3_2 = mp.builder.CH3()\n",
    "        ch3_2.rotate(180, axis=(0, 1, 0))  # 反向\n",
    "        ch3_2.translate((1.54, 0, 0))     # 典型 C-C 距离 = 0.154 A\n",
    "\n",
    "        self.add_struct(ch3_1)\n",
    "        self.add_struct(ch3_2)\n",
    "\n",
    "        c1 = ch3_1[\"atoms\"][0]\n",
    "        c2 = ch3_2[\"atoms\"][0]\n",
    "        self.def_bond(c1, c2)\n",
    "\n",
    "ethane = Ethane(name=\"ethane\", net_charge=0)\n",
    "ambertypifier = mp.typifier.AmberToolsTypifier(\"gaff\", \"bcc\")\n",
    "ambertypifier.typify(ethane, workdir=\"./amber\")"
   ]
  },
  {
   "cell_type": "code",
   "execution_count": 9,
   "id": "a6a587a8",
   "metadata": {},
   "outputs": [
    {
     "name": "stdout",
     "output_type": "stream",
     "text": [
      "The autoreload extension is already loaded. To reload it, use:\n",
      "  %reload_ext autoreload\n"
     ]
    }
   ],
   "source": [
    "%load_ext autoreload\n",
    "%autoreload 2\n",
    "\n",
    "import molpy as mp\n",
    "\n",
    "class Carbonyl(mp.Monomer):\n",
    "    def __init__(self, **props):\n",
    "        super().__init__(**props)\n",
    "        self[\"name\"] = \"carbonyl\"\n",
    "        self.def_atom(name=\"C\", type=\"c\", element=\"C\", xyz=(0, 0, 0))\n",
    "        self.def_atom(name=\"O\", type=\"o\", element=\"O\", xyz=(0, 0, 1.2))\n",
    "        self.def_bond(0, 1)\n",
    "\n",
    "class Methylene(mp.Monomer):\n",
    "    def __init__(self, **props):\n",
    "        super().__init__(**props)\n",
    "        self[\"name\"] = \"methylene\"\n",
    "        self.def_atom(name=\"C\", type=\"c\", element=\"C\", xyz=(0, 0, 0))\n",
    "        self.def_atom(name=\"H1\", type=\"h\", element=\"H\", xyz=(0, 0, 1.2))\n",
    "        self.def_atom(name=\"H2\", type=\"h\", element=\"H\", xyz=(0, 0, -1.2))\n",
    "        self.def_bond(0, 1)\n",
    "        self.def_bond(0, 2)\n",
    "\n",
    "class Methyl(mp.Monomer):\n",
    "    def __init__(self, **props):\n",
    "        super().__init__(**props)\n",
    "        self[\"name\"] = \"methyl\"\n",
    "        self.def_atom(name=\"C\", type=\"c\", element=\"C\", xyz=(0, 0, 0))\n",
    "        self.def_atom(name=\"H1\", type=\"h\", element=\"H\", xyz=(0.000, 0.000, 1.090))\n",
    "        self.def_atom(name=\"H2\", type=\"h\", element=\"H\", xyz=(1.026, 0.000, -0.363))\n",
    "        self.def_atom(name=\"H3\", type=\"h\", element=\"H\", xyz=(-0.513, 0.889, -0.363))\n",
    "        self.def_bond(0, 1)\n",
    "        self.def_bond(0, 2)\n",
    "        self.def_bond(0, 3)\n",
    "        "
   ]
  },
  {
   "cell_type": "code",
   "execution_count": 10,
   "id": "e85bf7c9",
   "metadata": {},
   "outputs": [
    {
     "ename": "AttributeError",
     "evalue": "module 'molpy' has no attribute 'reactor'",
     "output_type": "error",
     "traceback": [
      "\u001b[0;31m---------------------------------------------------------------------------\u001b[0m",
      "\u001b[0;31mAttributeError\u001b[0m                            Traceback (most recent call last)",
      "Cell \u001b[0;32mIn[10], line 10\u001b[0m\n\u001b[1;32m      3\u001b[0m tail \u001b[38;5;241m=\u001b[39m Carbonyl()\n\u001b[1;32m      4\u001b[0m head\u001b[38;5;241m.\u001b[39mdef_link_site(\n\u001b[1;32m      5\u001b[0m     this\u001b[38;5;241m=\u001b[39mhead[\u001b[38;5;124m\"\u001b[39m\u001b[38;5;124matoms\u001b[39m\u001b[38;5;124m\"\u001b[39m][\u001b[38;5;241m0\u001b[39m],\n\u001b[1;32m      6\u001b[0m     that\u001b[38;5;241m=\u001b[39mbody[\u001b[38;5;124m\"\u001b[39m\u001b[38;5;124matoms\u001b[39m\u001b[38;5;124m\"\u001b[39m][\u001b[38;5;241m0\u001b[39m],\n\u001b[1;32m      7\u001b[0m     \n\u001b[1;32m      8\u001b[0m )\n\u001b[0;32m---> 10\u001b[0m amberreactor \u001b[38;5;241m=\u001b[39m \u001b[43mmp\u001b[49m\u001b[38;5;241;43m.\u001b[39;49m\u001b[43mreactor\u001b[49m\u001b[38;5;241m.\u001b[39mAmberToolsReactor()\n\u001b[1;32m     11\u001b[0m amberreactor\u001b[38;5;241m.\u001b[39mreact(head, workdir\u001b[38;5;241m=\u001b[39m\u001b[38;5;124m\"\u001b[39m\u001b[38;5;124m./amber\u001b[39m\u001b[38;5;124m\"\u001b[39m)\n",
      "\u001b[0;31mAttributeError\u001b[0m: module 'molpy' has no attribute 'reactor'"
     ]
    }
   ],
   "source": [
    "head = Methyl()\n",
    "body = Methylene()\n",
    "tail = Carbonyl()\n",
    "head.def_link_site(\n",
    "    this=head[\"atoms\"][0],\n",
    "    that=body[\"atoms\"][0],\n",
    "    \n",
    ")\n",
    "\n",
    "amberreactor = mp.reactor.AmberToolsReactor()\n",
    "amberreactor.react(head, workdir=\"./amber\")"
   ]
  },
  {
   "cell_type": "code",
   "execution_count": null,
   "id": "4e49f8c6",
   "metadata": {},
   "outputs": [],
   "source": [
    "import random\n",
    "n_monomer = 10\n",
    "structs = []\n",
    "\n",
    "head = prev = Methyl()\n",
    "structs.append(head)\n",
    "\n",
    "for i in range(1, n_monomer+1):\n",
    "\n",
    "    # 随机选择一个单体\n",
    "    if random.random() < 0.5:\n",
    "        monomer = Carbonyl()\n",
    "    else:\n",
    "        monomer = Methylene()\n",
    "\n",
    "    monomer.rotate(180*i, axis=(1, 0, 0)).translate([2.95*i, 0, 0])\n",
    "\n",
    "    monomer.def_link_site(\n",
    "        this=monomer[\"atoms\"][0],\n",
    "        that=prev[\"atoms\"][0],\n",
    "    )\n",
    "\n",
    "    structs.append(monomer)\n",
    "\n",
    "    prev = monomer\n",
    "\n",
    "\n",
    "tail = Methyl()\n",
    "tail.rotate(180, axis=(1, 0, 0)).translate([2.95*i, 0, 0])\n",
    "tail.def_link_site(\n",
    "    this=tail[\"atoms\"][0],\n",
    "    that=prev[\"atoms\"][0],\n",
    ")\n",
    "structs.append(tail)"
   ]
  },
  {
   "cell_type": "code",
   "execution_count": null,
   "id": "2bb67653",
   "metadata": {},
   "outputs": [
    {
     "name": "stdout",
     "output_type": "stream",
     "text": [
      "Info: acdoctor mode is on: check and diagnose problems in the input file.\n",
      "Info: The atom type is set to gaff; the options available to the -at flag are\n",
      "      gaff, gaff2, amber, bcc, abcg2, and sybyl.\n",
      "\n",
      "-- Check Format for pdb File --\n",
      "   Status: pass\n",
      "\u001b[31mUsage: antechamber -i    \u001b[0m input file name\n",
      "\u001b[31m                   -fi   \u001b[0m input file format\n",
      "\u001b[31m                   -o    \u001b[0m output file name\n",
      "\u001b[31m                   -fo   \u001b[0m output file format\n",
      "\u001b[31m                   -c    \u001b[0m charge method\n",
      "\u001b[31m                   -cf   \u001b[0m charge file name\n",
      "\u001b[31m                   -nc   \u001b[0m net molecular charge (int)\n",
      "\u001b[31m                   -a    \u001b[0m additional file name\n",
      "\u001b[31m                   -fa   \u001b[0m additional file format\n",
      "\u001b[31m                   -ao   \u001b[0m additional file operation\n",
      "\u001b[34m                          crd   \u001b[0m: only read in coordinate\n",
      "\u001b[34m                          crg   \u001b[0m: only read in charge\n",
      "\u001b[34m                          radius\u001b[0m: only read in radius\n",
      "\u001b[34m                          name  \u001b[0m: only read in atom name\n",
      "\u001b[34m                          type  \u001b[0m: only read in atom type\n",
      "\u001b[34m                          bond  \u001b[0m: only read in bond type \n",
      "\u001b[31m                   -m    \u001b[0m multiplicity (2S+1), default is 1\n",
      "\u001b[31m                   -rn   \u001b[0m residue name, overrides input file, default is MOL\n",
      "\u001b[31m                   -rf   \u001b[0m residue toplogy file name in prep input file,\n",
      "                          default is molecule.res\n",
      "\u001b[31m                   -ch   \u001b[0m check file name for gaussian, default is 'molecule'\n",
      "\u001b[31m                   -ek   \u001b[0m mopac or sqm keyword, inside quotes; overwrites previous ones\n",
      "\u001b[31m                   -gk   \u001b[0m gaussian job keyword, inside quotes, is ignored when both -gopt and -gsp are used\n",
      "\u001b[31m                   -gopt \u001b[0m gaussian job keyword for optimization, inside quotes\n",
      "\u001b[31m                   -gsp  \u001b[0m gaussian job keyword for single point calculation, inside quotes\n",
      "\u001b[31m                   -gm   \u001b[0m gaussian memory keyword, inside quotes, such as \"%mem=1000MB\"\n",
      "\u001b[31m                   -gn   \u001b[0m gaussian number of processors keyword, inside quotes, such as \"%nproc=8\"\n",
      "\u001b[31m                   -gdsk \u001b[0m gaussian maximum disk usage keyword, inside quotes, such as \"%maxdisk=50GB\"\n",
      "\u001b[31m                   -gv   \u001b[0m add keyword to generate gesp file (for Gaussian 09 only)\n",
      "\u001b[34m                          1    \u001b[0m: yes\n",
      "\u001b[34m                          0    \u001b[0m: no, the default\n",
      "\u001b[31m                   -ge   \u001b[0m gaussian esp file generated by iop(6/50=1), default is g09.gesp\n",
      "\u001b[31m                   -tor  \u001b[0m torsional angle list, inside a pair of quotes, such as \"1-2-3-4:0,5-6-7-8\"\n",
      "\u001b[34m                         \u001b[0m ':1' or ':0' indicates the torsional angle is frozen or not\n",
      "\u001b[31m                   -df   \u001b[0m am1-bcc precharge flag, 2 - use sqm(default); 0 - use mopac\n",
      "\u001b[31m                   -at   \u001b[0m atom type\n",
      "\u001b[34m                          gaff \u001b[0m: the default\n",
      "\u001b[34m                          gaff2\u001b[0m: for gaff2 (beta-version)\n",
      "\u001b[34m                          amber\u001b[0m: for PARM94/99/99SB\n",
      "\u001b[34m                          bcc  \u001b[0m: bcc \n",
      "\u001b[34m                          abcg2\u001b[0m: abcg2 \n",
      "\u001b[34m                          sybyl\u001b[0m: sybyl \n",
      "\u001b[31m                   -du   \u001b[0m fix duplicate atom names: yes(y)[default] or no(n)\n",
      "\u001b[31m                   -bk   \u001b[0m component/block Id, for ccif\n",
      "\u001b[31m                   -an   \u001b[0m adjust atom names: yes(y) or no(n)\n",
      "                          the default is 'y' for 'mol2' and 'ac' and 'n' for the other formats \n",
      "\u001b[31m                   -j    \u001b[0m atom type and bond type prediction index, default is 4 \n",
      "\u001b[34m                          0    \u001b[0m: no assignment\n",
      "\u001b[34m                          1    \u001b[0m: atom type \n",
      "\u001b[34m                          2    \u001b[0m: full  bond types \n",
      "\u001b[34m                          3    \u001b[0m: part  bond types \n",
      "\u001b[34m                          4    \u001b[0m: atom and full bond type \n",
      "\u001b[34m                          5    \u001b[0m: atom and part bond type \n",
      "\u001b[31m                   -s    \u001b[0m status information: 0(brief), 1(default) or 2(verbose)\n",
      "\u001b[31m                   -eq   \u001b[0m equalizing atomic charge, default is 1 for '-c resp', '-c bcc', '-c abcg2' and 0 for the other charge methods \n",
      "\u001b[34m                          0    \u001b[0m: no use\n",
      "\u001b[34m                          1    \u001b[0m: by atomic paths \n",
      "\u001b[34m                          2    \u001b[0m: by atomic paths and structural information, i.e. E/Z configurations \n",
      "\u001b[31m                   -pf   \u001b[0m remove intermediate files: yes(y) or no(n)[default]\n",
      "\u001b[31m                   -pl   \u001b[0m maximum path length to determin equivalence of atomic charges for resp, bcc and abcg2,\n",
      "\u001b[31m                         \u001b[0m the smaller the value, the faster the algorithm, default is -1 (use full length),\n",
      "\u001b[31m                         \u001b[0m set this parameter to 10 to 30 if your molecule is big (# atoms >= 100)\n",
      "\u001b[31m                   -seq  \u001b[0m atomic sequence order changable: yes(y)[default] or no(n)\n",
      "\u001b[31m                   -dr   \u001b[0m acdoctor mode: yes(y)[default] or no(n)\n",
      "\u001b[31m                   -i -o -fi and -fo must appear; others are optional\u001b[0m\n",
      "\u001b[32m                   Use 'antechamber -L' to list the supported file formats and charge methods\u001b[0m\n",
      "\n",
      "Running: /opt/conda/envs/AmberTools25/bin/sqm -O -i sqm.in -o sqm.out\n",
      "\n"
     ]
    },
    {
     "data": {
      "text/plain": [
       "<Monomer: 43 atoms>"
      ]
     },
     "execution_count": 12,
     "metadata": {},
     "output_type": "execute_result"
    }
   ],
   "source": [
    "peo_frame = mp.io.read_pdb(\"peo/PEO_initial.pdb\")\n",
    "peo_monomer = mp.Monomer.from_frame(peo_frame, \"peo5\")\n",
    "ambertypifier = mp.typifier.AmberToolsTypifier(\"gaff\", \"bcc\")\n",
    "ambertypifier.typify(peo_monomer, workdir=\"./peo\")"
   ]
  },
  {
   "cell_type": "code",
   "execution_count": null,
   "id": "66537a06",
   "metadata": {},
   "outputs": [
    {
     "data": {
      "text/plain": [
       "<Monomer: 43 atoms>"
      ]
     },
     "execution_count": 13,
     "metadata": {},
     "output_type": "execute_result"
    }
   ],
   "source": [
    "head = peo_monomer.clone(name=\"head\")\n",
    "body = peo_monomer.clone(name=\"body\")\n",
    "tail = peo_monomer.clone(name=\"tail\")\n",
    "\n",
    "head_id = 0\n",
    "tail_id = 6\n",
    "tail_omit = [2, 22, 23, 24]\n",
    "head_omit = [7, 31, 32, 33]\n",
    "\n",
    "head.def_link_site(\n",
    "    this=head[\"atoms\"][head_id],\n",
    "    that=body[\"atoms\"][tail_id],\n",
    "    delete=[head[\"atoms\"][i] for i in head_omit]\n",
    ")\n",
    "body.def_link_site(\n",
    "    this=tail[\"atoms\"][tail_id],\n",
    "    that=body[\"atoms\"][head_id],\n",
    "    delete=[tail[\"atoms\"][i] for i in tail_omit]\n",
    ")\n",
    "body.def_link_site(\n",
    "    this=head[\"atoms\"][head_id],\n",
    "    that=body[\"atoms\"][tail_id],\n",
    "    delete=[head[\"atoms\"][i] for i in head_omit]\n",
    ")\n",
    "tail.def_link_site(\n",
    "    this=tail[\"atoms\"][tail_id],\n",
    "    that=body[\"atoms\"][head_id],\n",
    "    delete=[tail[\"atoms\"][i] for i in tail_omit]\n",
    ")"
   ]
  },
  {
   "cell_type": "code",
   "execution_count": null,
   "id": "6c1c0554",
   "metadata": {},
   "outputs": [
    {
     "name": "stdout",
     "output_type": "stream",
     "text": [
      "\n",
      " Cannot open the main chain file: peo/head/head.mc, exit\n",
      " Cannot open the main chain file: peo/tail/tail.mc, exit\n",
      " Cannot open the main chain file: peo/body/body.mc, exit"
     ]
    }
   ],
   "source": [
    "amberreactor = mp.reacter.AmberToolsReactor()\n",
    "amberreactor.react(head, workdir=Path(\"./peo\"))\n",
    "amberreactor.react(body, workdir=Path(\"./peo\"))\n",
    "amberreactor.react(tail, workdir=Path(\"./peo\"))"
   ]
  },
  {
   "cell_type": "code",
   "execution_count": null,
   "id": "7e41a676",
   "metadata": {},
   "outputs": [],
   "source": [
    "peo = mp.Polymer([head, body, tail])\n",
    "amberpolymerizer = mp.typifier.AmberToolsPolymerize()\n",
    "amberpolymerizer.polymerize(peo, workdir=Path(\"./peo\"))"
   ]
  }
 ],
 "metadata": {
  "kernelspec": {
   "display_name": "base",
   "language": "python",
   "name": "python3"
  },
  "language_info": {
   "codemirror_mode": {
    "name": "ipython",
    "version": 3
   },
   "file_extension": ".py",
   "mimetype": "text/x-python",
   "name": "python",
   "nbconvert_exporter": "python",
   "pygments_lexer": "ipython3",
   "version": "3.12.8"
  }
 },
 "nbformat": 4,
 "nbformat_minor": 5
}
