{
 "cells": [
  {
   "cell_type": "markdown",
   "id": "c0510d2d",
   "metadata": {},
   "source": [
    "# Model System Following the Moltemplate Approach"
   ]
  },
  {
   "cell_type": "markdown",
   "id": "386f26fa",
   "metadata": {},
   "source": [
    "## Simulating a box of water using moltemplate and LAMMPS\n",
    "\n",
    "Here we show an example of a lammps-template file for water. (The\n",
    "settings shown here are borrowed from the simple-point-charge [8] SPC/E\n",
    "model.) In addition to coordinates, topology and force-field settings, “LT”\n",
    "files can optionally include any other kind of LAMMPS settings including\n",
    "RATTLE or SHAKE constraints, k-space settings, and even group definitions."
   ]
  },
  {
   "cell_type": "code",
   "execution_count": 1,
   "id": "b759e5ae",
   "metadata": {},
   "outputs": [],
   "source": [
    "%load_ext autoreload\n",
    "%autoreload 2\n",
    "\n",
    "import molpy as mp\n",
    "import numpy as np\n",
    "from pathlib import Path"
   ]
  },
  {
   "cell_type": "code",
   "execution_count": 12,
   "id": "e72820e1",
   "metadata": {},
   "outputs": [],
   "source": [
    "class SPCE(mp.Struct):\n",
    "\n",
    "    def __init__(self, name=\"spce\"):\n",
    "        super().__init__(name=name)\n",
    "        o = self.def_atom(\n",
    "            name=\"o\", molid=\"$w\", type=\"O\", q=-0.8476, xyz=[0.00000, 0.00000, 0.00000]\n",
    "        )\n",
    "        h1 = self.def_atom(\n",
    "            name=\"h1\",\n",
    "            molid=\"$w\",\n",
    "            type=\"H\",\n",
    "            q=0.4238,\n",
    "            xyz=[0.8164904, 0.5773590, 0.00000],\n",
    "        )\n",
    "        h2 = self.def_atom(\n",
    "            name=\"h2\",\n",
    "            molid=\"$w\",\n",
    "            type=\"H\",\n",
    "            q=0.4238,\n",
    "            xyz=[-0.8164904, 0.5773590, 0.00000],\n",
    "        )\n",
    "        self.def_bond(o, h1)\n",
    "        self.def_bond(o, h2)\n",
    "        topology = self.get_topology()\n",
    "        angles = self.gen_angles(topology)\n",
    "        self.add_angles(angles)"
   ]
  },
  {
   "cell_type": "code",
   "execution_count": 3,
   "id": "93df5508",
   "metadata": {},
   "outputs": [
    {
     "data": {
      "text/plain": [
       "<PairType: H-H>"
      ]
     },
     "execution_count": 3,
     "metadata": {},
     "output_type": "execute_result"
    }
   ],
   "source": [
    "ff = mp.ForceField(name=\"spce\", unit=\"real\")\n",
    "atomstyle = ff.def_atomstyle(\"full\")\n",
    "o_type = atomstyle.def_type(\"O\", mass=15.999)\n",
    "h_type = atomstyle.def_type(\"H\", mass=1.008)\n",
    "\n",
    "bondstyle = ff.def_bondstyle(\"harmonic\")\n",
    "bondstyle.def_type(\n",
    "    o_type, h_type, k=1000.0, r0=1.0\n",
    ")\n",
    "\n",
    "anglestyle = ff.def_anglestyle(\"harmonic\")\n",
    "anglestyle.def_type(\n",
    "    h_type, o_type, h_type, k=1000.0, theta0=109.47\n",
    ")\n",
    "\n",
    "pairstyle = ff.def_pairstyle(\"lj/charmm/coul/long\", inner=9.0, outer=10.0, cutoff=10.0, mix=\"arithmetic\")\n",
    "pairstyle.def_type(\n",
    "    o_type, o_type, epsilon=0.1554, sigma=3.1656\n",
    ")\n",
    "pairstyle.def_type(\n",
    "    h_type, h_type, epsilon=0.0, sigma=0.0\n",
    ")"
   ]
  },
  {
   "cell_type": "code",
   "execution_count": 23,
   "id": "45e325fe",
   "metadata": {},
   "outputs": [],
   "source": [
    "typifier = mp.typifier.Typifier(forcefield=ff)\n",
    "spec = typifier.typify(SPCE())"
   ]
  },
  {
   "cell_type": "code",
   "execution_count": null,
   "id": "4c5fd1b1",
   "metadata": {},
   "outputs": [
    {
     "ename": "AttributeError",
     "evalue": "'PosixPath' object has no attribute 'forcefield'",
     "output_type": "error",
     "traceback": [
      "\u001b[0;31m---------------------------------------------------------------------------\u001b[0m",
      "\u001b[0;31mAttributeError\u001b[0m                            Traceback (most recent call last)",
      "Cell \u001b[0;32mIn[36], line 17\u001b[0m\n\u001b[1;32m      9\u001b[0m             system\u001b[38;5;241m.\u001b[39madd_struct(\n\u001b[1;32m     10\u001b[0m                 spec()\u001b[38;5;241m.\u001b[39mmove([\u001b[38;5;241m3.1034\u001b[39m \u001b[38;5;241m*\u001b[39m i, \u001b[38;5;241m3.1034\u001b[39m \u001b[38;5;241m*\u001b[39m j, \u001b[38;5;241m3.1034\u001b[39m \u001b[38;5;241m*\u001b[39m k]),\n\u001b[1;32m     11\u001b[0m             )\n\u001b[1;32m     13\u001b[0m mp\u001b[38;5;241m.\u001b[39mio\u001b[38;5;241m.\u001b[39mwrite_lammps_data(\n\u001b[1;32m     14\u001b[0m     Path(\u001b[38;5;124m\"\u001b[39m\u001b[38;5;124mspce.data\u001b[39m\u001b[38;5;124m\"\u001b[39m),\n\u001b[1;32m     15\u001b[0m     system\u001b[38;5;241m.\u001b[39mget_frame()\n\u001b[1;32m     16\u001b[0m )\n\u001b[0;32m---> 17\u001b[0m \u001b[43mmp\u001b[49m\u001b[38;5;241;43m.\u001b[39;49m\u001b[43mio\u001b[49m\u001b[38;5;241;43m.\u001b[39;49m\u001b[43mwrite_lammps_forcefield\u001b[49m\u001b[43m(\u001b[49m\n\u001b[1;32m     18\u001b[0m \u001b[43m    \u001b[49m\u001b[43mPath\u001b[49m\u001b[43m(\u001b[49m\u001b[38;5;124;43m\"\u001b[39;49m\u001b[38;5;124;43mspce.ff\u001b[39;49m\u001b[38;5;124;43m\"\u001b[39;49m\u001b[43m)\u001b[49m\u001b[43m,\u001b[49m\n\u001b[1;32m     19\u001b[0m \u001b[43m    \u001b[49m\u001b[43msystem\u001b[49m\u001b[38;5;241;43m.\u001b[39;49m\u001b[43mget_forcefield\u001b[49m\u001b[43m(\u001b[49m\u001b[43m)\u001b[49m\u001b[43m,\u001b[49m\n\u001b[1;32m     20\u001b[0m \u001b[43m)\u001b[49m\n",
      "File \u001b[0;32m/workspaces/molcrafts/molpy/src/molpy/io/__init__.py:132\u001b[0m, in \u001b[0;36mwrite_lammps_forcefield\u001b[0;34m(system, script)\u001b[0m\n\u001b[1;32m    130\u001b[0m \u001b[38;5;28;01mfrom\u001b[39;00m\u001b[38;5;250m \u001b[39m\u001b[38;5;21;01m.\u001b[39;00m\u001b[38;5;21;01mforcefield\u001b[39;00m\u001b[38;5;21;01m.\u001b[39;00m\u001b[38;5;21;01mlammps\u001b[39;00m\u001b[38;5;250m \u001b[39m\u001b[38;5;28;01mimport\u001b[39;00m LAMMPSForceFieldWriter\n\u001b[1;32m    131\u001b[0m writer \u001b[38;5;241m=\u001b[39m LAMMPSForceFieldWriter(script)\n\u001b[0;32m--> 132\u001b[0m \u001b[43mwriter\u001b[49m\u001b[38;5;241;43m.\u001b[39;49m\u001b[43mwrite\u001b[49m\u001b[43m(\u001b[49m\u001b[43msystem\u001b[49m\u001b[43m)\u001b[49m\n",
      "File \u001b[0;32m/workspaces/molcrafts/molpy/src/molpy/io/forcefield/lammps.py:473\u001b[0m, in \u001b[0;36mLAMMPSForceFieldWriter.write\u001b[0;34m(self, system)\u001b[0m\n\u001b[1;32m    471\u001b[0m \u001b[38;5;28;01mdef\u001b[39;00m\u001b[38;5;250m \u001b[39m\u001b[38;5;21mwrite\u001b[39m(\u001b[38;5;28mself\u001b[39m, system):\n\u001b[0;32m--> 473\u001b[0m     ff \u001b[38;5;241m=\u001b[39m \u001b[43msystem\u001b[49m\u001b[38;5;241;43m.\u001b[39;49m\u001b[43mforcefield\u001b[49m\n\u001b[1;32m    475\u001b[0m     lines \u001b[38;5;241m=\u001b[39m []\n\u001b[1;32m    477\u001b[0m     \u001b[38;5;66;03m# lines.append(f\"units {self.forcefield.unit}\\n\")\u001b[39;00m\n",
      "\u001b[0;31mAttributeError\u001b[0m: 'PosixPath' object has no attribute 'forcefield'"
     ]
    }
   ],
   "source": [
    "system = mp.System()\n",
    "system.set_forcefield(ff)\n",
    "system.def_box(\n",
    "    np.diag([31.034, 31.034, 31.034]),\n",
    ")\n",
    "for i in range(10):\n",
    "    for j in range(10):\n",
    "        for k in range(10):\n",
    "            system.add_struct(\n",
    "                spec().move([3.1034 * i, 3.1034 * j, 3.1034 * k]),\n",
    "            )\n",
    "\n",
    "mp.io.write_lammps_data(\n",
    "    Path(\"spce.data\"),\n",
    "    system.get_frame()\n",
    ")\n",
    "# mp.io.write_lammps_forcefield(\n",
    "#     Path(\"spce.ff\"),\n",
    "#     system.get_forcefield(),\n",
    "# )"
   ]
  },
  {
   "cell_type": "markdown",
   "id": "12419aef",
   "metadata": {},
   "source": [
    "## Object composition and coordinate generation\n",
    "\n",
    "Objects can be connected together to form larger molecule objects. These\n",
    "objects can be used to form still larger objects. As an example, we define a\n",
    "small 2-atom molecule named “Monomer”, and use it to construct a short\n",
    "polymer (\"Polymer\")."
   ]
  },
  {
   "cell_type": "code",
   "execution_count": null,
   "id": "c35a6190",
   "metadata": {},
   "outputs": [],
   "source": [
    "class Monomer(mp.Struct):\n",
    "\n",
    "    def __init__(self, name):\n",
    "        super().__init__(name=name)\n",
    "        ca = self.def_atom(name=\"ca\", molid=\"$\", type=\"CA\", q=0.0, xyz=[0.0, 1.0, 0.0])\n",
    "        r = self.def_atom(name=\"r\", molid=\"$\", type=\"R\", q=0.0, xyz=[0.0, 4.4, 0.0])\n",
    "        self.def_bond(ca, r)"
   ]
  },
  {
   "cell_type": "code",
   "execution_count": null,
   "id": "fd535b73",
   "metadata": {},
   "outputs": [],
   "source": [
    "class Polymer(mp.Struct):\n",
    "\n",
    "    def __init__(self, name=\"polymer\"):\n",
    "        super().__init__(name=name)\n",
    "        self.add_struct(\n",
    "            Monomer(name=\"mon1\")\n",
    "        )\n",
    "        for i in range(2, 8):\n",
    "            self.add_struct(\n",
    "                Monomer(name=f\"mon{i}\").rotate(180*i, [1, 0, 0]).move([3.2*i, 0, 0])\n",
    "            )\n",
    "            self.def_bond(\n",
    "                self.structs[i-2][\"atoms\"][0],\n",
    "                self.structs[i-1][\"atoms\"][1],\n",
    "            )"
   ]
  },
  {
   "cell_type": "code",
   "execution_count": null,
   "id": "b61a46c5",
   "metadata": {},
   "outputs": [],
   "source": [
    "ff = mp.ForceField(name=\"polymer\", unit=\"real\")\n",
    "atomstyle = ff.def_atomstyle(\"full\")\n",
    "ca_type = atomstyle.def_type(\"CA\", mass=13.0)\n",
    "r_type = atomstyle.def_type(\"R\", mass=50.0)\n",
    "bondstyle = ff.def_bondstyle(\"harmonic\")\n",
    "bondstyle.def_type(\n",
    "    ca_type, r_type, k=15.0, r0=3.4\n",
    ")\n",
    "bondstyle.def_type(\n",
    "    ca_type, ca_type, k=15.0, r0=3.7\n",
    ")\n",
    "anglestyle = ff.def_anglestyle(\"harmonic\")\n",
    "anglestyle.def_type(\n",
    "    ca_type, r_type, ca_type, k=15.0, theta0=180.0\n",
    ")\n",
    "anglestyle.def_type(\n",
    "    ca_type, ca_type, ca_type, k=15.0, theta0=180.0\n",
    ")\n",
    "dihestyle = ff.def_dihedralstyle(\"charmm\")\n",
    "dihestyle.def_type(\n",
    "    ca_type, ca_type, ca_type, ca_type, k=15.0, phi0=180.0\n",
    ")\n",
    "dihestyle.def_type(\n",
    "    r_type, ca_type, ca_type, r_type, k=15.0, phi0=180.0\n",
    ")\n",
    "pairstyle = ff.def_pairstyle(\"lj/charmm/coul/long\", inner=9.0, outer=10.0, cutoff=10.0, mix=\"arithmetic\")\n",
    "pairstyle.def_type(\n",
    "    ca_type, ca_type, epsilon=0.1554, sigma=3.1656\n",
    ")\n",
    "pairstyle.def_type(\n",
    "    ca_type, r_type, epsilon=0.1554, sigma=3.1656\n",
    ")\n"
   ]
  },
  {
   "cell_type": "code",
   "execution_count": null,
   "id": "31da86c0",
   "metadata": {},
   "outputs": [],
   "source": [
    "system = mp.System()\n",
    "system.set_forcefield(ff)\n",
    "for i in range(10):\n",
    "    system.add_struct(\n",
    "        Polymer(name=\"polymer\").move([3.2 * i, 0, 0]),\n",
    "    )"
   ]
  }
 ],
 "metadata": {
  "kernelspec": {
   "display_name": "base",
   "language": "python",
   "name": "python3"
  },
  "language_info": {
   "codemirror_mode": {
    "name": "ipython",
    "version": 3
   },
   "file_extension": ".py",
   "mimetype": "text/x-python",
   "name": "python",
   "nbconvert_exporter": "python",
   "pygments_lexer": "ipython3",
   "version": "3.12.8"
  }
 },
 "nbformat": 4,
 "nbformat_minor": 5
}
