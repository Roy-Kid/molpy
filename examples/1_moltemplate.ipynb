{
 "cells": [
  {
   "cell_type": "markdown",
   "id": "c0510d2d",
   "metadata": {},
   "source": [
    "# Model System Following the Moltemplate Approach"
   ]
  },
  {
   "cell_type": "markdown",
   "id": "386f26fa",
   "metadata": {},
   "source": [
    "## Simulating a box of water using moltemplate and LAMMPS\n",
    "\n",
    "Here we show an example of a lammps-template file for water. (The\n",
    "settings shown here are borrowed from the simple-point-charge [8] SPC/E\n",
    "model.) In addition to coordinates, topology and force-field settings, “LT”\n",
    "files can optionally include any other kind of LAMMPS settings including\n",
    "RATTLE or SHAKE constraints, k-space settings, and even group definitions."
   ]
  },
  {
   "cell_type": "code",
   "execution_count": 16,
   "id": "b759e5ae",
   "metadata": {},
   "outputs": [
    {
     "name": "stdout",
     "output_type": "stream",
     "text": [
      "The autoreload extension is already loaded. To reload it, use:\n",
      "  %reload_ext autoreload\n"
     ]
    }
   ],
   "source": [
    "%load_ext autoreload\n",
    "%autoreload 2\n",
    "\n",
    "import molpy as mp\n",
    "import numpy as np\n",
    "from pathlib import Path\n",
    "\n",
    "data_path = Path(\"data/case0\")"
   ]
  },
  {
   "cell_type": "code",
   "execution_count": 17,
   "id": "e72820e1",
   "metadata": {},
   "outputs": [],
   "source": [
    "class SPCE(mp.Struct):\n",
    "\n",
    "    def __init__(self, name=\"spce\"):\n",
    "        super().__init__(name=name)\n",
    "        o = self.def_atom(\n",
    "            name=\"o\", molid=\"$w\", type=\"O\", q=-0.8476, xyz=[0.00000, 0.00000, 0.00000]\n",
    "        )\n",
    "        h1 = self.def_atom(\n",
    "            name=\"h1\",\n",
    "            molid=\"$w\",\n",
    "            type=\"H\",\n",
    "            q=0.4238,\n",
    "            xyz=[0.8164904, 0.5773590, 0.00000],\n",
    "        )\n",
    "        h2 = self.def_atom(\n",
    "            name=\"h2\",\n",
    "            molid=\"$w\",\n",
    "            type=\"H\",\n",
    "            q=0.4238,\n",
    "            xyz=[-0.8164904, 0.5773590, 0.00000],\n",
    "        )\n",
    "        self.def_bond(o, h1)\n",
    "        self.def_bond(o, h2)\n",
    "        topology = self.get_topology()\n",
    "        angles = self.gen_angles(topology)\n",
    "        self.add_angles(angles)"
   ]
  },
  {
   "cell_type": "code",
   "execution_count": 18,
   "id": "93df5508",
   "metadata": {},
   "outputs": [
    {
     "data": {
      "text/plain": [
       "<PairType: H-H>"
      ]
     },
     "execution_count": 18,
     "metadata": {},
     "output_type": "execute_result"
    }
   ],
   "source": [
    "ff = mp.ForceField(name=\"spce\", unit=\"real\")\n",
    "atomstyle = ff.def_atomstyle(\"full\")\n",
    "o_type = atomstyle.def_type(\"O\", mass=15.999)\n",
    "h_type = atomstyle.def_type(\"H\", mass=1.008)\n",
    "\n",
    "bondstyle = ff.def_bondstyle(\"harmonic\")\n",
    "bondstyle.def_type(\n",
    "    o_type, h_type, k=1000.0, r0=1.0\n",
    ")\n",
    "\n",
    "anglestyle = ff.def_anglestyle(\"harmonic\")\n",
    "anglestyle.def_type(\n",
    "    h_type, o_type, h_type, k=1000.0, theta0=109.47\n",
    ")\n",
    "\n",
    "pairstyle = ff.def_pairstyle(\"lj/charmm/coul/long\", inner=9.0, outer=10.0, cutoff=10.0, mix=\"arithmetic\")\n",
    "pairstyle.def_type(\n",
    "    o_type, o_type, epsilon=0.1554, sigma=3.1656\n",
    ")\n",
    "pairstyle.def_type(\n",
    "    h_type, h_type, epsilon=0.0, sigma=0.0\n",
    ")"
   ]
  },
  {
   "cell_type": "code",
   "execution_count": 19,
   "id": "45e325fe",
   "metadata": {},
   "outputs": [],
   "source": [
    "typifier = mp.typifier.ForceFieldTypifier(forcefield=ff)\n",
    "spec = typifier.typify(SPCE())"
   ]
  },
  {
   "cell_type": "code",
   "execution_count": 20,
   "id": "4c5fd1b1",
   "metadata": {},
   "outputs": [],
   "source": [
    "system = mp.System()\n",
    "system.set_forcefield(ff)\n",
    "system.def_box(\n",
    "    np.diag([31.034, 31.034, 31.034]),\n",
    ")\n",
    "for i in range(10):\n",
    "    for j in range(10):\n",
    "        for k in range(10):\n",
    "            system.add_struct(\n",
    "                spec().move([3.1034 * i, 3.1034 * j, 3.1034 * k]),\n",
    "            )\n",
    "\n",
    "mp.io.write_lammps(\n",
    "    data_path / \"spec\",\n",
    "    system.to_frame()\n",
    ")"
   ]
  },
  {
   "cell_type": "markdown",
   "id": "12419aef",
   "metadata": {},
   "source": [
    "## Object composition and coordinate generation\n",
    "\n",
    "Objects can be connected together to form larger molecule objects. These\n",
    "objects can be used to form still larger objects. As an example, we define a\n",
    "small 2-atom molecule named “Monomer”, and use it to construct a short\n",
    "polymer (\"Polymer\")."
   ]
  },
  {
   "cell_type": "code",
   "execution_count": 21,
   "id": "c35a6190",
   "metadata": {},
   "outputs": [],
   "source": [
    "class Monomer(mp.Struct):\n",
    "\n",
    "    def __init__(self, name):\n",
    "        super().__init__(name=name)\n",
    "        ca = self.def_atom(name=\"ca\", molid=\"$\", type=\"CA\", q=0.0, xyz=[0.0, 1.0, 0.0])\n",
    "        r = self.def_atom(name=\"r\", molid=\"$\", type=\"R\", q=0.0, xyz=[0.0, 4.4, 0.0])\n",
    "        self.def_bond(ca, r)"
   ]
  },
  {
   "cell_type": "code",
   "execution_count": 22,
   "id": "fd535b73",
   "metadata": {},
   "outputs": [],
   "source": [
    "class Polymer(mp.Struct):\n",
    "\n",
    "    def __init__(self, name=\"polymer\"):\n",
    "        super().__init__(name=name)\n",
    "        prev = self.add_struct(\n",
    "            Monomer(name=\"mon1\")\n",
    "        )\n",
    "        for i in range(2, 8):\n",
    "            curr = self.add_struct(\n",
    "                Monomer(name=f\"mon{i}\").rotate(180*i, [1, 0, 0]).move([3.2*i, 0, 0])\n",
    "            )\n",
    "            self.def_bond(\n",
    "                prev[\"atoms\"][0],\n",
    "                curr[\"atoms\"][1],\n",
    "            )"
   ]
  },
  {
   "cell_type": "code",
   "execution_count": 23,
   "id": "b61a46c5",
   "metadata": {},
   "outputs": [
    {
     "data": {
      "text/plain": [
       "<PairType: CA-R>"
      ]
     },
     "execution_count": 23,
     "metadata": {},
     "output_type": "execute_result"
    }
   ],
   "source": [
    "ff = mp.ForceField(name=\"polymer\", unit=\"real\")\n",
    "atomstyle = ff.def_atomstyle(\"full\")\n",
    "ca_type = atomstyle.def_type(\"CA\", mass=13.0)\n",
    "r_type = atomstyle.def_type(\"R\", mass=50.0)\n",
    "bondstyle = ff.def_bondstyle(\"harmonic\")\n",
    "bondstyle.def_type(\n",
    "    ca_type, r_type, k=15.0, r0=3.4\n",
    ")\n",
    "bondstyle.def_type(\n",
    "    ca_type, ca_type, k=15.0, r0=3.7\n",
    ")\n",
    "anglestyle = ff.def_anglestyle(\"harmonic\")\n",
    "anglestyle.def_type(\n",
    "    ca_type, r_type, ca_type, k=15.0, theta0=180.0\n",
    ")\n",
    "anglestyle.def_type(\n",
    "    ca_type, ca_type, ca_type, k=15.0, theta0=180.0\n",
    ")\n",
    "dihestyle = ff.def_dihedralstyle(\"charmm\")\n",
    "dihestyle.def_type(\n",
    "    ca_type, ca_type, ca_type, ca_type, k=15.0, phi0=180.0\n",
    ")\n",
    "dihestyle.def_type(\n",
    "    r_type, ca_type, ca_type, r_type, k=15.0, phi0=180.0\n",
    ")\n",
    "pairstyle = ff.def_pairstyle(\"lj/charmm/coul/long\", inner=9.0, outer=10.0, cutoff=10.0, mix=\"arithmetic\")\n",
    "pairstyle.def_type(\n",
    "    ca_type, ca_type, epsilon=0.1554, sigma=3.1656\n",
    ")\n",
    "pairstyle.def_type(\n",
    "    ca_type, r_type, epsilon=0.1554, sigma=3.1656\n",
    ")\n"
   ]
  },
  {
   "cell_type": "code",
   "execution_count": null,
   "id": "31da86c0",
   "metadata": {},
   "outputs": [
    {
     "ename": "TypeError",
     "evalue": "'System' object is not subscriptable",
     "output_type": "error",
     "traceback": [
      "\u001b[0;31m---------------------------------------------------------------------------\u001b[0m",
      "\u001b[0;31mTypeError\u001b[0m                                 Traceback (most recent call last)",
      "Cell \u001b[0;32mIn[24], line 8\u001b[0m\n\u001b[1;32m      3\u001b[0m \u001b[38;5;28;01mfor\u001b[39;00m i \u001b[38;5;129;01min\u001b[39;00m \u001b[38;5;28mrange\u001b[39m(\u001b[38;5;241m10\u001b[39m):\n\u001b[1;32m      4\u001b[0m     system\u001b[38;5;241m.\u001b[39madd_struct(\n\u001b[1;32m      5\u001b[0m         Polymer(name\u001b[38;5;241m=\u001b[39m\u001b[38;5;124m\"\u001b[39m\u001b[38;5;124mpolymer\u001b[39m\u001b[38;5;124m\"\u001b[39m)\u001b[38;5;241m.\u001b[39mmove([\u001b[38;5;241m3.2\u001b[39m \u001b[38;5;241m*\u001b[39m i, \u001b[38;5;241m0\u001b[39m, \u001b[38;5;241m0\u001b[39m]),\n\u001b[1;32m      6\u001b[0m     )\n\u001b[0;32m----> 8\u001b[0m \u001b[43mmp\u001b[49m\u001b[38;5;241;43m.\u001b[39;49m\u001b[43mio\u001b[49m\u001b[38;5;241;43m.\u001b[39;49m\u001b[43mwrite_lammps\u001b[49m\u001b[43m(\u001b[49m\n\u001b[1;32m      9\u001b[0m \u001b[43m    \u001b[49m\u001b[43mdata_path\u001b[49m\u001b[43m \u001b[49m\u001b[38;5;241;43m/\u001b[39;49m\u001b[43m \u001b[49m\u001b[38;5;124;43m\"\u001b[39;49m\u001b[38;5;124;43mpolymer\u001b[39;49m\u001b[38;5;124;43m\"\u001b[39;49m\u001b[43m,\u001b[49m\n\u001b[1;32m     10\u001b[0m \u001b[43m    \u001b[49m\u001b[43msystem\u001b[49m\n\u001b[1;32m     11\u001b[0m \u001b[43m)\u001b[49m\n",
      "File \u001b[0;32m/workspaces/molcrafts/molpy/src/molpy/io/__init__.py:139\u001b[0m, in \u001b[0;36mwrite_lammps\u001b[0;34m(workdir, frame)\u001b[0m\n\u001b[1;32m    137\u001b[0m     workdir\u001b[38;5;241m.\u001b[39mmkdir(parents\u001b[38;5;241m=\u001b[39m\u001b[38;5;28;01mTrue\u001b[39;00m, exist_ok\u001b[38;5;241m=\u001b[39m\u001b[38;5;28;01mTrue\u001b[39;00m)\n\u001b[1;32m    138\u001b[0m file_path \u001b[38;5;241m=\u001b[39m workdir \u001b[38;5;241m/\u001b[39m workdir\u001b[38;5;241m.\u001b[39mstem\n\u001b[0;32m--> 139\u001b[0m \u001b[43mwrite_lammps_data\u001b[49m\u001b[43m(\u001b[49m\u001b[43mfile_path\u001b[49m\u001b[38;5;241;43m.\u001b[39;49m\u001b[43mwith_suffix\u001b[49m\u001b[43m(\u001b[49m\u001b[38;5;124;43m\"\u001b[39;49m\u001b[38;5;124;43m.data\u001b[39;49m\u001b[38;5;124;43m\"\u001b[39;49m\u001b[43m)\u001b[49m\u001b[43m,\u001b[49m\u001b[43m \u001b[49m\u001b[43mframe\u001b[49m\u001b[43m)\u001b[49m\n\u001b[1;32m    140\u001b[0m write_lammps_forcefield(file_path\u001b[38;5;241m.\u001b[39mwith_suffix(\u001b[38;5;124m\"\u001b[39m\u001b[38;5;124m.ff\u001b[39m\u001b[38;5;124m\"\u001b[39m), frame\u001b[38;5;241m.\u001b[39mforcefield)\n",
      "File \u001b[0;32m/workspaces/molcrafts/molpy/src/molpy/io/__init__.py:114\u001b[0m, in \u001b[0;36mwrite_lammps_data\u001b[0;34m(file, frame)\u001b[0m\n\u001b[1;32m    112\u001b[0m \u001b[38;5;28;01mfrom\u001b[39;00m\u001b[38;5;250m \u001b[39m\u001b[38;5;21;01m.\u001b[39;00m\u001b[38;5;21;01mdata\u001b[39;00m\u001b[38;5;21;01m.\u001b[39;00m\u001b[38;5;21;01mlammps\u001b[39;00m\u001b[38;5;250m \u001b[39m\u001b[38;5;28;01mimport\u001b[39;00m LammpsDataWriter\n\u001b[1;32m    113\u001b[0m writer \u001b[38;5;241m=\u001b[39m LammpsDataWriter(file)\n\u001b[0;32m--> 114\u001b[0m \u001b[43mwriter\u001b[49m\u001b[38;5;241;43m.\u001b[39;49m\u001b[43mwrite\u001b[49m\u001b[43m(\u001b[49m\u001b[43mframe\u001b[49m\u001b[43m)\u001b[49m\n",
      "File \u001b[0;32m/workspaces/molcrafts/molpy/src/molpy/io/data/lammps.py:283\u001b[0m, in \u001b[0;36mLammpsDataWriter.write\u001b[0;34m(self, frame)\u001b[0m\n\u001b[1;32m    279\u001b[0m \u001b[38;5;28;01mdef\u001b[39;00m\u001b[38;5;250m \u001b[39m\u001b[38;5;21mwrite\u001b[39m(\u001b[38;5;28mself\u001b[39m, frame):\n\u001b[1;32m    281\u001b[0m     ff \u001b[38;5;241m=\u001b[39m frame\u001b[38;5;241m.\u001b[39mforcefield\n\u001b[0;32m--> 283\u001b[0m     n_atoms \u001b[38;5;241m=\u001b[39m \u001b[43mframe\u001b[49m\u001b[43m[\u001b[49m\u001b[38;5;124;43m\"\u001b[39;49m\u001b[38;5;124;43matoms\u001b[39;49m\u001b[38;5;124;43m\"\u001b[39;49m\u001b[43m]\u001b[49m\u001b[38;5;241m.\u001b[39marray_length\n\u001b[1;32m    284\u001b[0m     n_bonds \u001b[38;5;241m=\u001b[39m frame[\u001b[38;5;124m\"\u001b[39m\u001b[38;5;124mbonds\u001b[39m\u001b[38;5;124m\"\u001b[39m]\u001b[38;5;241m.\u001b[39marray_length \u001b[38;5;28;01mif\u001b[39;00m \u001b[38;5;124m\"\u001b[39m\u001b[38;5;124mbonds\u001b[39m\u001b[38;5;124m\"\u001b[39m \u001b[38;5;129;01min\u001b[39;00m frame \u001b[38;5;28;01melse\u001b[39;00m \u001b[38;5;241m0\u001b[39m\n\u001b[1;32m    285\u001b[0m     n_angles \u001b[38;5;241m=\u001b[39m frame[\u001b[38;5;124m\"\u001b[39m\u001b[38;5;124mangles\u001b[39m\u001b[38;5;124m\"\u001b[39m]\u001b[38;5;241m.\u001b[39marray_length \u001b[38;5;28;01mif\u001b[39;00m \u001b[38;5;124m\"\u001b[39m\u001b[38;5;124mangles\u001b[39m\u001b[38;5;124m\"\u001b[39m \u001b[38;5;129;01min\u001b[39;00m frame \u001b[38;5;28;01melse\u001b[39;00m \u001b[38;5;241m0\u001b[39m\n",
      "\u001b[0;31mTypeError\u001b[0m: 'System' object is not subscriptable"
     ]
    }
   ],
   "source": [
    "system = mp.System()\n",
    "system.set_forcefield(ff)\n",
    "for i in range(10):\n",
    "    system.add_struct(\n",
    "        Polymer(name=\"polymer\").move([3.2 * i, 0, 0]),\n",
    "    )\n",
    "\n",
    "mp.io.write_lammps(\n",
    "    data_path / \"polymer\",\n",
    "    system.to_frame()\n",
    ")"
   ]
  }
 ],
 "metadata": {
  "kernelspec": {
   "display_name": "base",
   "language": "python",
   "name": "python3"
  },
  "language_info": {
   "codemirror_mode": {
    "name": "ipython",
    "version": 3
   },
   "file_extension": ".py",
   "mimetype": "text/x-python",
   "name": "python",
   "nbconvert_exporter": "python",
   "pygments_lexer": "ipython3",
   "version": "3.12.8"
  }
 },
 "nbformat": 4,
 "nbformat_minor": 5
}
