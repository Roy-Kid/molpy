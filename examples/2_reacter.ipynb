{
 "cells": [
  {
   "cell_type": "code",
   "execution_count": 1,
   "id": "e87e19af",
   "metadata": {},
   "outputs": [],
   "source": [
    "%load_ext autoreload\n",
    "%autoreload 2\n",
    "\n",
    "import molpy as mp\n",
    "import numpy as np\n",
    "from pathlib import Path\n",
    "\n",
    "data_path = Path(\"data/case2\")"
   ]
  },
  {
   "cell_type": "code",
   "execution_count": 2,
   "id": "641d2d7b",
   "metadata": {},
   "outputs": [],
   "source": [
    "struct_hd = mp.Monomer.from_frame(mp.io.read_pdb(data_path / \"hexamethylenediamine.pdb\"), \"hd\")\n",
    "struct_aa = mp.Monomer.from_frame(mp.io.read_pdb(data_path / \"adipic_acid.pdb\"), \"aa\")\n",
    "\n",
    "# typifier = mp.typifier.AmberToolsTypifier(\"gaff\", \"bcc\")\n",
    "# typifier.typify(struct_hd, workdir=data_path / \"hd\")\n",
    "# typifier.typify(struct_aa, workdir=data_path / \"aa\")"
   ]
  },
  {
   "cell_type": "code",
   "execution_count": 3,
   "id": "77b06d25",
   "metadata": {},
   "outputs": [],
   "source": [
    "# rxn1_end1 = struct_hd.get_substruct(indices=[1, 2, 3, 4, 5, 7, 8, 15, 19, 20])\n",
    "# rxn1_end2 = struct_aa.get_substruct(indices=[1, 3, 6, 9, 4, 5, 7, 8, 10, 11, 13, 14])"
   ]
  },
  {
   "cell_type": "code",
   "execution_count": null,
   "id": "06393fe9",
   "metadata": {},
   "outputs": [
    {
     "data": {
      "text/plain": [
       "<Struct: 9 atoms>"
      ]
     },
     "execution_count": 4,
     "metadata": {},
     "output_type": "execute_result"
    }
   ],
   "source": [
    "site_a = struct_hd.def_link_site(struct_hd[\"atoms\"][0], )\n",
    "site_b = struct_aa.def_link_site(struct_aa[\"atoms\"][0], )\n",
    "reacter = mp.reacter.LammpsReacter(mp.typifier.AmberToolsTypifier(\"gaff\", \"bcc\"))\n",
    "struct_stp1 = reacter.react(\n",
    "    \"stp1\",\n",
    "    struct_hd,\n",
    "    struct_aa,\n",
    "    site_a,\n",
    "    site_b,\n",
    "    struct_hd[\"atoms\"][8],\n",
    "    struct_aa[\"atoms\"][8],\n",
    "    workdir=data_path\n",
    ")"
   ]
  },
  {
   "cell_type": "code",
   "execution_count": null,
   "id": "61dadc9a",
   "metadata": {},
   "outputs": [
    {
     "ename": "NameError",
     "evalue": "name 'struct_rxn1' is not defined",
     "output_type": "error",
     "traceback": [
      "\u001b[0;31m---------------------------------------------------------------------------\u001b[0m",
      "\u001b[0;31mNameError\u001b[0m                                 Traceback (most recent call last)",
      "Cell \u001b[0;32mIn[5], line 1\u001b[0m\n\u001b[0;32m----> 1\u001b[0m frame \u001b[38;5;241m=\u001b[39m \u001b[43mstruct_rxn1\u001b[49m\u001b[38;5;241m.\u001b[39mto_frame(bond_keys\u001b[38;5;241m=\u001b[39m[\u001b[38;5;124m'\u001b[39m\u001b[38;5;124mi\u001b[39m\u001b[38;5;124m'\u001b[39m, \u001b[38;5;124m'\u001b[39m\u001b[38;5;124mj\u001b[39m\u001b[38;5;124m'\u001b[39m])\n\u001b[1;32m      2\u001b[0m \u001b[38;5;28;01mfor\u001b[39;00m bond \u001b[38;5;129;01min\u001b[39;00m frame[\u001b[38;5;124m\"\u001b[39m\u001b[38;5;124mbonds\u001b[39m\u001b[38;5;124m\"\u001b[39m]\u001b[38;5;241m.\u001b[39miterrows():\n\u001b[1;32m      3\u001b[0m     \u001b[38;5;28mprint\u001b[39m(bond[\u001b[38;5;124m'\u001b[39m\u001b[38;5;124mi\u001b[39m\u001b[38;5;124m'\u001b[39m], bond[\u001b[38;5;124m'\u001b[39m\u001b[38;5;124mj\u001b[39m\u001b[38;5;124m'\u001b[39m])\n",
      "\u001b[0;31mNameError\u001b[0m: name 'struct_rxn1' is not defined"
     ]
    },
    {
     "name": "stdout",
     "output_type": "stream",
     "text": [
      "\u001b[31mUsage: antechamber -i    \u001b[0m input file name\n",
      "\u001b[31m                   -fi   \u001b[0m input file format\n",
      "\u001b[31m                   -o    \u001b[0m output file name\n",
      "\u001b[31m                   -fo   \u001b[0m output file format\n",
      "\u001b[31m                   -c    \u001b[0m charge method\n",
      "\u001b[31m                   -cf   \u001b[0m charge file name\n",
      "\u001b[31m                   -nc   \u001b[0m net molecular charge (int)\n",
      "\u001b[31m                   -a    \u001b[0m additional file name\n",
      "\u001b[31m                   -fa   \u001b[0m additional file format\n",
      "\u001b[31m                   -ao   \u001b[0m additional file operation\n",
      "\u001b[34m                          crd   \u001b[0m: only read in coordinate\n",
      "\u001b[34m                          crg   \u001b[0m: only read in charge\n",
      "\u001b[34m                          radius\u001b[0m: only read in radius\n",
      "\u001b[34m                          name  \u001b[0m: only read in atom name\n",
      "\u001b[34m                          type  \u001b[0m: only read in atom type\n",
      "\u001b[34m                          bond  \u001b[0m: only read in bond type \n",
      "\u001b[31m                   -m    \u001b[0m multiplicity (2S+1), default is 1\n",
      "\u001b[31m                   -rn   \u001b[0m residue name, overrides input file, default is MOL\n",
      "\u001b[31m                   -rf   \u001b[0m residue toplogy file name in prep input file,\n",
      "                          default is molecule.res\n",
      "\u001b[31m                   -ch   \u001b[0m check file name for gaussian, default is 'molecule'\n",
      "\u001b[31m                   -ek   \u001b[0m mopac or sqm keyword, inside quotes; overwrites previous ones\n",
      "\u001b[31m                   -gk   \u001b[0m gaussian job keyword, inside quotes, is ignored when both -gopt and -gsp are used\n",
      "\u001b[31m                   -gopt \u001b[0m gaussian job keyword for optimization, inside quotes\n",
      "\u001b[31m                   -gsp  \u001b[0m gaussian job keyword for single point calculation, inside quotes\n",
      "\u001b[31m                   -gm   \u001b[0m gaussian memory keyword, inside quotes, such as \"%mem=1000MB\"\n",
      "\u001b[31m                   -gn   \u001b[0m gaussian number of processors keyword, inside quotes, such as \"%nproc=8\"\n",
      "\u001b[31m                   -gdsk \u001b[0m gaussian maximum disk usage keyword, inside quotes, such as \"%maxdisk=50GB\"\n",
      "\u001b[31m                   -gv   \u001b[0m add keyword to generate gesp file (for Gaussian 09 only)\n",
      "\u001b[34m                          1    \u001b[0m: yes\n",
      "\u001b[34m                          0    \u001b[0m: no, the default\n",
      "\u001b[31m                   -ge   \u001b[0m gaussian esp file generated by iop(6/50=1), default is g09.gesp\n",
      "\u001b[31m                   -tor  \u001b[0m torsional angle list, inside a pair of quotes, such as \"1-2-3-4:0,5-6-7-8\"\n",
      "\u001b[34m                         \u001b[0m ':1' or ':0' indicates the torsional angle is frozen or not\n",
      "\u001b[31m                   -df   \u001b[0m am1-bcc precharge flag, 2 - use sqm(default); 0 - use mopac\n",
      "\u001b[31m                   -at   \u001b[0m atom type\n",
      "\u001b[34m                          gaff \u001b[0m: the default\n",
      "\u001b[34m                          gaff2\u001b[0m: for gaff2 (beta-version)\n",
      "\u001b[34m                          amber\u001b[0m: for PARM94/99/99SB\n",
      "\u001b[34m                          bcc  \u001b[0m: bcc \n",
      "\u001b[34m                          abcg2\u001b[0m: abcg2 \n",
      "\u001b[34m                          sybyl\u001b[0m: sybyl \n",
      "\u001b[31m                   -du   \u001b[0m fix duplicate atom names: yes(y)[default] or no(n)\n",
      "\u001b[31m                   -bk   \u001b[0m component/block Id, for ccif\n",
      "\u001b[31m                   -an   \u001b[0m adjust atom names: yes(y) or no(n)\n",
      "                          the default is 'y' for 'mol2' and 'ac' and 'n' for the other formats \n",
      "\u001b[31m                   -j    \u001b[0m atom type and bond type prediction index, default is 4 \n",
      "\u001b[34m                          0    \u001b[0m: no assignment\n",
      "\u001b[34m                          1    \u001b[0m: atom type \n",
      "\u001b[34m                          2    \u001b[0m: full  bond types \n",
      "\u001b[34m                          3    \u001b[0m: part  bond types \n",
      "\u001b[34m                          4    \u001b[0m: atom and full bond type \n",
      "\u001b[34m                          5    \u001b[0m: atom and part bond type \n",
      "\u001b[31m                   -s    \u001b[0m status information: 0(brief), 1(default) or 2(verbose)\n",
      "\u001b[31m                   -eq   \u001b[0m equalizing atomic charge, default is 1 for '-c resp', '-c bcc', '-c abcg2' and 0 for the other charge methods \n",
      "\u001b[34m                          0    \u001b[0m: no use\n",
      "\u001b[34m                          1    \u001b[0m: by atomic paths \n",
      "\u001b[34m                          2    \u001b[0m: by atomic paths and structural information, i.e. E/Z configurations \n",
      "\u001b[31m                   -pf   \u001b[0m remove intermediate files: yes(y) or no(n)[default]\n",
      "\u001b[31m                   -pl   \u001b[0m maximum path length to determin equivalence of atomic charges for resp, bcc and abcg2,\n",
      "\u001b[31m                         \u001b[0m the smaller the value, the faster the algorithm, default is -1 (use full length),\n",
      "\u001b[31m                         \u001b[0m set this parameter to 10 to 30 if your molecule is big (# atoms >= 100)\n",
      "\u001b[31m                   -seq  \u001b[0m atomic sequence order changable: yes(y)[default] or no(n)\n",
      "\u001b[31m                   -dr   \u001b[0m acdoctor mode: yes(y)[default] or no(n)\n",
      "\u001b[31m                   -i -o -fi and -fo must appear; others are optional\u001b[0m\n",
      "\u001b[32m                   Use 'antechamber -L' to list the supported file formats and charge methods\u001b[0m\n"
     ]
    }
   ],
   "source": [
    "frame = struct_rxn1.to_frame(bond_keys=['i', 'j'])\n",
    "for bond in frame[\"bonds\"].iterrows():\n",
    "    print(bond['i'], bond['j'])"
   ]
  },
  {
   "cell_type": "code",
   "execution_count": null,
   "id": "1513a56c",
   "metadata": {},
   "outputs": [
    {
     "data": {
      "text/plain": [
       "<Struct: 44 atoms>"
      ]
     },
     "execution_count": 6,
     "metadata": {},
     "output_type": "execute_result"
    }
   ],
   "source": [
    "struct_rxn1.del_bond()\n",
    "typifier.typify(struct_rxn1, workdir=data_path / \"rxn1\")\n",
    "mp.io.write_lammps_molecule(data_path / \"rxn1_stp2_before.mol\", struct_rxn1)"
   ]
  },
  {
   "cell_type": "code",
   "execution_count": null,
   "id": "f184cd92",
   "metadata": {},
   "outputs": [],
   "source": [
    "struct_rxn1.def_atoms()  # delete water\n",
    "mp.io.write_lammps_molecule(data_path / \"rxn1_stp2_after.mol\", struct_rxn1)"
   ]
  },
  {
   "cell_type": "code",
   "execution_count": null,
   "id": "4a2d75c4",
   "metadata": {},
   "outputs": [],
   "source": [
    "# packing and run simulation"
   ]
  }
 ],
 "metadata": {
  "kernelspec": {
   "display_name": "base",
   "language": "python",
   "name": "python3"
  },
  "language_info": {
   "codemirror_mode": {
    "name": "ipython",
    "version": 3
   },
   "file_extension": ".py",
   "mimetype": "text/x-python",
   "name": "python",
   "nbconvert_exporter": "python",
   "pygments_lexer": "ipython3",
   "version": "3.12.8"
  }
 },
 "nbformat": 4,
 "nbformat_minor": 5
}
