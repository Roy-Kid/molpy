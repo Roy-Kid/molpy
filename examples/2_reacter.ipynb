{
 "cells": [
  {
   "cell_type": "code",
   "execution_count": null,
   "id": "e87e19af",
   "metadata": {},
   "outputs": [],
   "source": [
    "%load_ext autoreload\n",
    "%autoreload 2\n",
    "\n",
    "import molpy as mp\n",
    "import numpy as np\n",
    "from pathlib import Path\n",
    "\n",
    "data_path = Path(\"data/case2\")"
   ]
  },
  {
   "cell_type": "code",
   "execution_count": null,
   "id": "641d2d7b",
   "metadata": {},
   "outputs": [],
   "source": [
    "typifier = mp.typifier.AmberToolsTypifier(\"gaff\", \"bcc\")\n",
    "reacter = mp.reacter.LammpsReacter(\n",
    "    mp.typifier.AmberToolsTypifier(\"gaff\", \"bcc\"),\n",
    ")\n",
    "\n",
    "struct_hd = mp.Struct.from_frame(\n",
    "    mp.io.read_pdb(data_path / \"hexamethylenediamine.pdb\"), \"hd\"\n",
    ")\n",
    "struct_aa = mp.Struct.from_frame(mp.io.read_pdb(data_path / \"adipic_acid.pdb\"), \"aa\")\n",
    "\n",
    "struct_hd = typifier.typify(struct_hd)\n",
    "struct_aa = typifier.typify(struct_aa)"
   ]
  },
  {
   "cell_type": "code",
   "execution_count": null,
   "id": "51095c50",
   "metadata": {},
   "outputs": [],
   "source": [
    "init1 = struct_hd.atoms[0]\n",
    "init2 = struct_aa.atoms[0]\n",
    "end1 = struct_hd.atoms[8]\n",
    "end2 = struct_aa.atoms[2]\n",
    "\n",
    "# find end groups\n",
    "hd_end = reacter.find_template(\n",
    "    \"hd_end\",\n",
    "    struct_hd,\n",
    "    end1, init1\n",
    ")\n",
    "aa_end = reacter.find_template(\n",
    "    \"aa_end\",\n",
    "    struct_aa,\n",
    "    end2, init2,\n",
    ")\n",
    "\n",
    "stp1_react = reacter.react(\n",
    "    \"stp1_react\",\n",
    "    mp.Struct.concat(\"stp1_unreact\", [hd_end, aa_end]),\n",
    "    init1, init2,\n",
    "    end1, end2,\n",
    "    workdir=data_path,\n",
    ")\n",
    "mp.io.write_pdb(data_path / \"stp1_react.pdb\", stp1_react.to_frame())"
   ]
  },
  {
   "cell_type": "code",
   "execution_count": null,
   "id": "ae984609",
   "metadata": {},
   "outputs": [],
   "source": [
    "init1 = stp1_react.atoms[0]\n",
    "init2 = stp1_react.atoms[16]\n",
    "end1 = stp1_react.atoms[4]\n",
    "end2 = stp1_react.atoms[12]\n",
    "del1 = stp1_react.atoms[12]\n",
    "del2 = stp1_react.atoms[12]\n",
    "\n",
    "stp2_unreact = reacter.find_template(\n",
    "    \"stp2_unreact\",\n",
    "    stp1_react,\n",
    "    end1, end2\n",
    ")\n",
    "\n",
    "stp2_react = reacter.react(\n",
    "    \"stp2_react\",\n",
    "    stp2_unreact,\n",
    "    init1, init2,\n",
    "    end1, end2,\n",
    "    [del1, del2],\n",
    "    workdir=data_path,\n",
    ")\n",
    "mp.io.write_pdb(data_path / \"stp2_react.pdb\", stp1_react.to_frame())"
   ]
  },
  {
   "cell_type": "code",
   "execution_count": null,
   "id": "904b8c97",
   "metadata": {},
   "outputs": [],
   "source": []
  }
 ],
 "metadata": {
  "kernelspec": {
   "display_name": "base",
   "language": "python",
   "name": "python3"
  },
  "language_info": {
   "codemirror_mode": {
    "name": "ipython",
    "version": 3
   },
   "file_extension": ".py",
   "mimetype": "text/x-python",
   "name": "python",
   "nbconvert_exporter": "python",
   "pygments_lexer": "ipython3",
   "version": "3.12.8"
  }
 },
 "nbformat": 4,
 "nbformat_minor": 5
}
